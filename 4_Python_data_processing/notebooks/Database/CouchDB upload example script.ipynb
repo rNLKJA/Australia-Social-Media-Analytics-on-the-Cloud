{
 "cells": [
  {
   "cell_type": "code",
   "execution_count": 30,
   "id": "04043ca1-ae1a-462d-890f-398ea98deb3b",
   "metadata": {
    "execution": {
     "iopub.execute_input": "2023-05-14T05:23:43.170316Z",
     "iopub.status.busy": "2023-05-14T05:23:43.170316Z",
     "iopub.status.idle": "2023-05-14T05:23:43.181316Z",
     "shell.execute_reply": "2023-05-14T05:23:43.181316Z",
     "shell.execute_reply.started": "2023-05-14T05:23:43.170316Z"
    },
    "tags": []
   },
   "outputs": [],
   "source": [
    "import couchdb\n",
    "import dotenv\n",
    "import os\n",
    "import re"
   ]
  },
  {
   "cell_type": "code",
   "execution_count": 31,
   "id": "25a223d2-2777-475a-8c81-479ff4f88a5f",
   "metadata": {
    "execution": {
     "iopub.execute_input": "2023-05-14T05:23:43.722065Z",
     "iopub.status.busy": "2023-05-14T05:23:43.722065Z",
     "iopub.status.idle": "2023-05-14T05:23:43.741065Z",
     "shell.execute_reply": "2023-05-14T05:23:43.741065Z",
     "shell.execute_reply.started": "2023-05-14T05:23:43.722065Z"
    },
    "tags": []
   },
   "outputs": [
    {
     "data": {
      "text/plain": [
       "True"
      ]
     },
     "execution_count": 31,
     "metadata": {},
     "output_type": "execute_result"
    }
   ],
   "source": [
    "dotenv.load_dotenv()"
   ]
  },
  {
   "cell_type": "code",
   "execution_count": 32,
   "id": "414b873a-e065-468c-a66f-a6c15cd9eb83",
   "metadata": {
    "execution": {
     "iopub.execute_input": "2023-05-14T05:23:43.912446Z",
     "iopub.status.busy": "2023-05-14T05:23:43.912446Z",
     "iopub.status.idle": "2023-05-14T05:23:43.930439Z",
     "shell.execute_reply": "2023-05-14T05:23:43.930439Z",
     "shell.execute_reply.started": "2023-05-14T05:23:43.912446Z"
    },
    "tags": []
   },
   "outputs": [],
   "source": [
    "COUCHDB_HOST = os.environ['COUCHDB_HOST']\n",
    "COUCHDB_PORT = os.environ['COUCHDB_PORT']\n",
    "COUCHDB_USERNAME = os.environ['COUCHDB_USERNAME']\n",
    "COUCHDB_PASSWORD = os.environ['COUCHDB_PASSWORD']"
   ]
  },
  {
   "cell_type": "code",
   "execution_count": 57,
   "id": "c6928490-bf33-4776-b681-60becbaa25bd",
   "metadata": {
    "execution": {
     "iopub.execute_input": "2023-05-14T05:30:12.647970Z",
     "iopub.status.busy": "2023-05-14T05:30:12.647970Z",
     "iopub.status.idle": "2023-05-14T05:30:12.668968Z",
     "shell.execute_reply": "2023-05-14T05:30:12.668968Z",
     "shell.execute_reply.started": "2023-05-14T05:30:12.647970Z"
    },
    "tags": []
   },
   "outputs": [],
   "source": [
    "class CouchDB:\n",
    "    def __init__(self, dbname, host=COUCHDB_HOST, port=COUCHDB_PORT,\n",
    "                 username=COUCHDB_USERNAME, password=COUCHDB_PASSWORD):\n",
    "        self.host = host\n",
    "        self.port = port\n",
    "        self.username = username\n",
    "        self.password = password\n",
    "\n",
    "        self.instance_url = f\"http://{self.username}:{self.password}@{self.host}:{self.port}\"\n",
    "        self.server = couchdb.Server(self.instance_url)\n",
    "        self.db = self.get_or_create_database(dbname)\n",
    "\n",
    "    def __repr__(self):\n",
    "        return f\"{self.server} - {self.db}\"\n",
    "\n",
    "    def get_or_create_database(self, dbname):\n",
    "        try:\n",
    "            db = self.server.create(dbname)\n",
    "            print(f\"Database '{dbname}' created successfully.\")\n",
    "            return db\n",
    "        except couchdb.http.PreconditionFailed:\n",
    "            print(f\"Database '{dbname}' already exists.\")\n",
    "            return self.server[dbname]\n",
    "\n",
    "    def upload_document(self, data, verbose=False):\n",
    "        doc_id, doc_rev = self.db.save(data)\n",
    "        if verbose:\n",
    "            print(f\"Document uploaded with ID: {doc_id}\", end='\\r')\n",
    "        return doc_id\n",
    "\n",
    "    def get_document(self, doc_id):\n",
    "        try:\n",
    "            doc = self.db[doc_id]\n",
    "            return doc\n",
    "        except couchdb.http.ResourceNotFound:\n",
    "            print(f\"Document with ID '{doc_id}' not found.\")\n",
    "            return None\n",
    "\n",
    "    def delete_document(self, doc_id):\n",
    "        try:\n",
    "            doc = self.db[doc_id]\n",
    "            self.db.delete(doc)\n",
    "            print(f\"Document with ID '{doc_id}' deleted successfully.\")\n",
    "        except couchdb.http.ResourceNotFound:\n",
    "            print(f\"Document with ID '{doc_id}' not found.\")\n",
    "\n",
    "    def update_document(self, doc_id, updated_data):\n",
    "        doc = self.get_document(doc_id)\n",
    "        if doc:\n",
    "            doc.update(updated_data)\n",
    "            self.db.save(doc)\n",
    "            print(f\"Document with ID '{doc_id}' updated successfully.\")\n",
    "        else:\n",
    "            print(f\"Document with ID '{doc_id}' not found.\")\n",
    "\n",
    "    def list_documents(self, limit=1):\n",
    "        try:\n",
    "            result = self.db.view(\"_all_docs\", descending=True, limit=limit)\n",
    "            latest_doc_id = result.rows[0].id\n",
    "            latest_doc = self.get_document(latest_doc_id)\n",
    "            return [latest_doc] if latest_doc else []\n",
    "        except couchdb.http.ResourceNotFound:\n",
    "            print(\"No documents found.\")\n",
    "            return []\n",
    "        \n",
    "    def get_document_by_id(self, doc_id):\n",
    "        doc = self.get_document(doc_id)\n",
    "        if doc:\n",
    "            return dict(doc)\n",
    "        else:\n",
    "            return None\n",
    "\n",
    "    def extract_and_get_data(self, response):\n",
    "        match = re.search(r\"\\(doc._id == \\\"([^']+)\\\"\\)\", response)\n",
    "        if match:\n",
    "            doc_id = match.group(1)\n",
    "            return self.get_document_by_id(doc_id)\n",
    "        else:\n",
    "            return None\n",
    "        \n",
    "    def get_last_document(self):\n",
    "        response = str(self.list_documents()[0])\n",
    "        return self.extract_and_get_data(response)"
   ]
  },
  {
   "cell_type": "code",
   "execution_count": 58,
   "id": "a1f958b6-a592-49da-ad55-31069e4419f7",
   "metadata": {
    "execution": {
     "iopub.execute_input": "2023-05-14T05:30:14.832429Z",
     "iopub.status.busy": "2023-05-14T05:30:14.832429Z",
     "iopub.status.idle": "2023-05-14T05:30:14.981866Z",
     "shell.execute_reply": "2023-05-14T05:30:14.981866Z",
     "shell.execute_reply.started": "2023-05-14T05:30:14.832429Z"
    },
    "tags": []
   },
   "outputs": [
    {
     "name": "stdout",
     "output_type": "stream",
     "text": [
      "Database 'twitter' already exists.\n"
     ]
    }
   ],
   "source": [
    "db = CouchDB('twitter')"
   ]
  },
  {
   "cell_type": "code",
   "execution_count": 59,
   "id": "49574e2e-a4a6-43c2-9d68-39416f7a441d",
   "metadata": {
    "execution": {
     "iopub.execute_input": "2023-05-14T05:30:21.775624Z",
     "iopub.status.busy": "2023-05-14T05:30:21.775624Z",
     "iopub.status.idle": "2023-05-14T05:30:21.845149Z",
     "shell.execute_reply": "2023-05-14T05:30:21.844945Z",
     "shell.execute_reply.started": "2023-05-14T05:30:21.775624Z"
    },
    "tags": []
   },
   "outputs": [
    {
     "data": {
      "text/plain": [
       "{'_id': '0:1491562556611121153',\n",
       " '_rev': '2-20ad33e9793bcf9359c611753fb9b884',\n",
       " 'tid': '1491562556611121153',\n",
       " 'author': '1443931204990877696',\n",
       " 'date': '2022-02-10T00:00:00.000Z',\n",
       " 'lang': 'en',\n",
       " 'content': \"I think if fandom is the only thing in your life , it 's definitely not healthy . As long a you have other thing you care about a much or more , it 's a good escape and can fuel creativity . \\\\n\\\\nCompetitiveness is ridiculous in a fandom - it 's based on admiring other people 's work !\",\n",
       " 'location': None,\n",
       " 'sal': None,\n",
       " 'score': 9,\n",
       " 'tags': ''}"
      ]
     },
     "execution_count": 59,
     "metadata": {},
     "output_type": "execute_result"
    }
   ],
   "source": [
    "db.get_last_document()"
   ]
  },
  {
   "cell_type": "markdown",
   "id": "c9e87587-230e-404a-a428-00fda8132d17",
   "metadata": {},
   "source": [
    "## Sample usage, upload sal.json to database"
   ]
  },
  {
   "cell_type": "code",
   "execution_count": 5,
   "id": "fd35c7e0-33aa-4ec9-8cdc-0b5dcfc67ce9",
   "metadata": {
    "execution": {
     "iopub.execute_input": "2023-05-14T04:08:35.821627Z",
     "iopub.status.busy": "2023-05-14T04:08:35.820627Z",
     "iopub.status.idle": "2023-05-14T04:08:36.450263Z",
     "shell.execute_reply": "2023-05-14T04:08:36.450263Z",
     "shell.execute_reply.started": "2023-05-14T04:08:35.821627Z"
    }
   },
   "outputs": [],
   "source": [
    "import pandas as pd\n",
    "from tqdm.notebook import tqdm"
   ]
  },
  {
   "cell_type": "code",
   "execution_count": 12,
   "id": "e847d398-fc26-47a5-b88a-22d16977d7cf",
   "metadata": {
    "execution": {
     "iopub.execute_input": "2023-05-14T04:10:16.873927Z",
     "iopub.status.busy": "2023-05-14T04:10:16.873927Z",
     "iopub.status.idle": "2023-05-14T04:10:18.921587Z",
     "shell.execute_reply": "2023-05-14T04:10:18.920813Z",
     "shell.execute_reply.started": "2023-05-14T04:10:16.873927Z"
    },
    "tags": []
   },
   "outputs": [
    {
     "data": {
      "text/html": [
       "<div>\n",
       "<style scoped>\n",
       "    .dataframe tbody tr th:only-of-type {\n",
       "        vertical-align: middle;\n",
       "    }\n",
       "\n",
       "    .dataframe tbody tr th {\n",
       "        vertical-align: top;\n",
       "    }\n",
       "\n",
       "    .dataframe thead th {\n",
       "        text-align: right;\n",
       "    }\n",
       "</style>\n",
       "<table border=\"1\" class=\"dataframe\">\n",
       "  <thead>\n",
       "    <tr style=\"text-align: right;\">\n",
       "      <th></th>\n",
       "      <th>location</th>\n",
       "      <th>gcc</th>\n",
       "      <th>sal</th>\n",
       "    </tr>\n",
       "  </thead>\n",
       "  <tbody>\n",
       "    <tr>\n",
       "      <th>0</th>\n",
       "      <td>abbotsbury</td>\n",
       "      <td>1gsyd</td>\n",
       "      <td>10002</td>\n",
       "    </tr>\n",
       "    <tr>\n",
       "      <th>1</th>\n",
       "      <td>abbotsford (nsw)</td>\n",
       "      <td>1gsyd</td>\n",
       "      <td>10003</td>\n",
       "    </tr>\n",
       "    <tr>\n",
       "      <th>2</th>\n",
       "      <td>acacia gardens</td>\n",
       "      <td>1gsyd</td>\n",
       "      <td>10014</td>\n",
       "    </tr>\n",
       "    <tr>\n",
       "      <th>3</th>\n",
       "      <td>agnes banks</td>\n",
       "      <td>1gsyd</td>\n",
       "      <td>10021</td>\n",
       "    </tr>\n",
       "    <tr>\n",
       "      <th>4</th>\n",
       "      <td>airds</td>\n",
       "      <td>1gsyd</td>\n",
       "      <td>10022</td>\n",
       "    </tr>\n",
       "    <tr>\n",
       "      <th>...</th>\n",
       "      <td>...</td>\n",
       "      <td>...</td>\n",
       "      <td>...</td>\n",
       "    </tr>\n",
       "    <tr>\n",
       "      <th>15335</th>\n",
       "      <td>christmas island</td>\n",
       "      <td>9oter</td>\n",
       "      <td>90001</td>\n",
       "    </tr>\n",
       "    <tr>\n",
       "      <th>15336</th>\n",
       "      <td>home island</td>\n",
       "      <td>9oter</td>\n",
       "      <td>90002</td>\n",
       "    </tr>\n",
       "    <tr>\n",
       "      <th>15337</th>\n",
       "      <td>jervis bay</td>\n",
       "      <td>9oter</td>\n",
       "      <td>90003</td>\n",
       "    </tr>\n",
       "    <tr>\n",
       "      <th>15338</th>\n",
       "      <td>norfolk island</td>\n",
       "      <td>9oter</td>\n",
       "      <td>90004</td>\n",
       "    </tr>\n",
       "    <tr>\n",
       "      <th>15339</th>\n",
       "      <td>west island</td>\n",
       "      <td>9oter</td>\n",
       "      <td>90005</td>\n",
       "    </tr>\n",
       "  </tbody>\n",
       "</table>\n",
       "<p>15340 rows × 3 columns</p>\n",
       "</div>"
      ],
      "text/plain": [
       "               location    gcc    sal\n",
       "0            abbotsbury  1gsyd  10002\n",
       "1      abbotsford (nsw)  1gsyd  10003\n",
       "2        acacia gardens  1gsyd  10014\n",
       "3           agnes banks  1gsyd  10021\n",
       "4                 airds  1gsyd  10022\n",
       "...                 ...    ...    ...\n",
       "15335  christmas island  9oter  90001\n",
       "15336       home island  9oter  90002\n",
       "15337        jervis bay  9oter  90003\n",
       "15338    norfolk island  9oter  90004\n",
       "15339       west island  9oter  90005\n",
       "\n",
       "[15340 rows x 3 columns]"
      ]
     },
     "execution_count": 12,
     "metadata": {},
     "output_type": "execute_result"
    }
   ],
   "source": [
    "df = pd.read_json('../data/sal.json').T.reset_index()\n",
    "df.drop('ste', axis=1, inplace=True)\n",
    "df.columns = ['location', 'gcc', 'sal']\n",
    "df"
   ]
  },
  {
   "cell_type": "code",
   "execution_count": 14,
   "id": "6cb78320-962e-47e0-8431-85b351c67c5a",
   "metadata": {
    "execution": {
     "iopub.execute_input": "2023-05-14T04:10:58.959390Z",
     "iopub.status.busy": "2023-05-14T04:10:58.959390Z",
     "iopub.status.idle": "2023-05-14T04:10:59.427383Z",
     "shell.execute_reply": "2023-05-14T04:10:59.427383Z",
     "shell.execute_reply.started": "2023-05-14T04:10:58.959390Z"
    }
   },
   "outputs": [
    {
     "name": "stdout",
     "output_type": "stream",
     "text": [
      "Database 'sal' created successfully.\n"
     ]
    }
   ],
   "source": [
    "db = CouchDB('sal')"
   ]
  },
  {
   "cell_type": "code",
   "execution_count": 15,
   "id": "4c606db8-a263-42b1-9811-949f74867bdc",
   "metadata": {
    "execution": {
     "iopub.execute_input": "2023-05-14T04:11:01.204528Z",
     "iopub.status.busy": "2023-05-14T04:11:01.204528Z",
     "iopub.status.idle": "2023-05-14T04:36:39.266430Z",
     "shell.execute_reply": "2023-05-14T04:36:39.266430Z",
     "shell.execute_reply.started": "2023-05-14T04:11:01.204528Z"
    },
    "tags": []
   },
   "outputs": [
    {
     "data": {
      "application/vnd.jupyter.widget-view+json": {
       "model_id": "5f00b667b86649068ca70beb18425a03",
       "version_major": 2,
       "version_minor": 0
      },
      "text/plain": [
       "Updating Documents:   0%|          | 0/15340 [00:00<?, ?it/s]"
      ]
     },
     "metadata": {},
     "output_type": "display_data"
    }
   ],
   "source": [
    "for _, data in tqdm(df.iterrows(), total=len(df), desc=\"Updating Documents\"):\n",
    "    db.upload_document(data.to_dict())"
   ]
  },
  {
   "cell_type": "code",
   "execution_count": null,
   "id": "0be8737c-a0db-4934-b507-4ff73db675ad",
   "metadata": {},
   "outputs": [],
   "source": []
  }
 ],
 "metadata": {
  "kernelspec": {
   "display_name": "Python 3 (ipykernel)",
   "language": "python",
   "name": "python3"
  },
  "language_info": {
   "codemirror_mode": {
    "name": "ipython",
    "version": 3
   },
   "file_extension": ".py",
   "mimetype": "text/x-python",
   "name": "python",
   "nbconvert_exporter": "python",
   "pygments_lexer": "ipython3",
   "version": "3.10.9"
  }
 },
 "nbformat": 4,
 "nbformat_minor": 5
}
