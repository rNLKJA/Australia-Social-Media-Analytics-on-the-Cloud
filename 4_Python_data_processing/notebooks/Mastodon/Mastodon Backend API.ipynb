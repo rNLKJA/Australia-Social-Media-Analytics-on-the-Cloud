{
 "cells": [
  {
   "cell_type": "code",
   "execution_count": null,
   "id": "c0422c22-2999-44cc-82f4-d9fe66cf14cd",
   "metadata": {},
   "outputs": [],
   "source": [
    "from matodon import Mastodon\n",
    "import os\n",
    "from dotenv import load_dotenv\n",
    "\n",
    "load_dotenv()"
   ]
  }
 ],
 "metadata": {
  "kernelspec": {
   "display_name": "Python 3 (ipykernel)",
   "language": "python",
   "name": "python3"
  },
  "language_info": {
   "codemirror_mode": {
    "name": "ipython",
    "version": 3
   },
   "file_extension": ".py",
   "mimetype": "text/x-python",
   "name": "python",
   "nbconvert_exporter": "python",
   "pygments_lexer": "ipython3",
   "version": "3.11.3"
  }
 },
 "nbformat": 4,
 "nbformat_minor": 5
}
