{
 "cells": [
  {
   "cell_type": "code",
   "execution_count": 1,
   "id": "c0422c22-2999-44cc-82f4-d9fe66cf14cd",
   "metadata": {},
   "outputs": [
    {
     "name": "stderr",
     "output_type": "stream",
     "text": [
      "[nltk_data] Downloading package vader_lexicon to\n",
      "[nltk_data]     /Users/huangsunchuangyu/nltk_data...\n",
      "[nltk_data]   Package vader_lexicon is already up-to-date!\n",
      "[nltk_data] Downloading package wordnet to\n",
      "[nltk_data]     /Users/huangsunchuangyu/nltk_data...\n",
      "[nltk_data]   Package wordnet is already up-to-date!\n",
      "[nltk_data] Downloading package punkt to\n",
      "[nltk_data]     /Users/huangsunchuangyu/nltk_data...\n",
      "[nltk_data]   Package punkt is already up-to-date!\n"
     ]
    },
    {
     "data": {
      "text/plain": [
       "True"
      ]
     },
     "execution_count": 1,
     "metadata": {},
     "output_type": "execute_result"
    }
   ],
   "source": [
    "from mastodon import Mastodon\n",
    "import os\n",
    "from dotenv import load_dotenv\n",
    "from datetime import datetime\n",
    "import pytz\n",
    "from bs4 import BeautifulSoup\n",
    "\n",
    "import nltk\n",
    "from nltk.sentiment import SentimentIntensityAnalyzer\n",
    "from nltk.stem import WordNetLemmatizer\n",
    "\n",
    "nltk.download('vader_lexicon')\n",
    "nltk.download('wordnet')\n",
    "nltk.download('punkt')\n",
    "\n",
    "load_dotenv()"
   ]
  },
  {
   "cell_type": "code",
   "execution_count": 41,
   "id": "4b547fe3-9d63-4902-91a7-8777586295fe",
   "metadata": {},
   "outputs": [],
   "source": [
    "class MastodonInfo:\n",
    "    def __init__(self, server):\n",
    "        self.server_name = server\n",
    "        self.client_id=os.environ.get(f\"MASTODON_{server}_CLIENT_KEY\")\n",
    "        self.client_secret=os.environ.get(f\"MASTODON_{server}_CLIENT_SECRET\")\n",
    "        self.access_token=os.environ.get(f\"MASTODON_{server}_ACCESS_TOKEN\")\n",
    "        self.api_base_url=os.environ.get(f\"MASTODON_{server}_URL\")\n",
    "        \n",
    "    def __repr__(self):\n",
    "        return f\"Mastodon server: {self.server_name}\"\n",
    "    "
   ]
  },
  {
   "cell_type": "code",
   "execution_count": 42,
   "id": "3ec7f82d-c582-4f93-addc-f081d3593ccb",
   "metadata": {},
   "outputs": [],
   "source": [
    "MASTODON_SERVERS = [\"SOCIAL\", \"AU\", \"TICTOC_SOCIAL\", \n",
    "                    \"NEURODIVERSITY\", \"THEBLOWER\", \"AUS_SOCIAL\"]\n",
    "MASTODON_SERVERS = [MastodonInfo(server) for server in MASTODON_SERVERS]"
   ]
  },
  {
   "cell_type": "code",
   "execution_count": 43,
   "id": "925b07de-e054-48d9-82c6-e39c06f8bb56",
   "metadata": {},
   "outputs": [
    {
     "data": {
      "text/plain": [
       "Mastodon server: AUS_SOCIAL"
      ]
     },
     "execution_count": 43,
     "metadata": {},
     "output_type": "execute_result"
    }
   ],
   "source": [
    "MASTODON_SERVERS[-1]"
   ]
  },
  {
   "cell_type": "code",
   "execution_count": 115,
   "id": "9ce4f1b5-35db-4c10-bbca-6e4aa543ab7a",
   "metadata": {},
   "outputs": [],
   "source": [
    "mastodon = Mastodon(\n",
    "    client_id=MASTODON_SERVERS[-2].client_id,\n",
    "    client_secret=MASTODON_SERVERS[-2].client_secret,\n",
    "    access_token=MASTODON_SERVERS[-2].access_token,\n",
    "    api_base_url=MASTODON_SERVERS[-2].api_base_url\n",
    ")"
   ]
  },
  {
   "cell_type": "code",
   "execution_count": 122,
   "id": "f7a488a5-bd5d-47fe-a8df-1e27ba954884",
   "metadata": {},
   "outputs": [],
   "source": [
    "def binary_search_date(since_date, until_date, lower_id, upper_id, mastodon):\n",
    "    melbourne_tz = pytz.timezone('Australia/Melbourne')\n",
    "    \n",
    "    since_date = since_date.replace(tzinfo=pytz.UTC).astimezone(melbourne_tz)\n",
    "    until_date = until_date.replace(tzinfo=pytz.UTC).astimezone(melbourne_tz)\n",
    "\n",
    "    id_changes = []\n",
    "\n",
    "    while True:\n",
    "        lower_toot = mastodon.timeline_public(min_id=lower_id, limit=1)[0]\n",
    "        upper_toot = mastodon.timeline_public(max_id=upper_id, limit=1)[0]\n",
    "\n",
    "        lower_created_at = datetime.fromisoformat(str(lower_toot['created_at'])).replace(tzinfo=pytz.UTC)\n",
    "        upper_created_at = datetime.fromisoformat(str(upper_toot['created_at'])).replace(tzinfo=pytz.UTC)\n",
    "        lower_created_at = lower_created_at.astimezone(melbourne_tz)\n",
    "        upper_created_at = upper_created_at.astimezone(melbourne_tz)\n",
    "\n",
    "        if lower_created_at.date() == since_date.date() and upper_created_at.date() == until_date.date():\n",
    "            break\n",
    "\n",
    "        mid_id = (upper_id + lower_id) // 2\n",
    "        toot = mastodon.timeline_public(max_id=mid_id, limit=1)[0]\n",
    "        created_at = datetime.fromisoformat(str(toot['created_at'])).replace(tzinfo=pytz.UTC)\n",
    "        created_at = created_at.astimezone(melbourne_tz)\n",
    "\n",
    "        if created_at.date() == since_date.date():\n",
    "            break\n",
    "\n",
    "        id_changes.append((lower_id, upper_id))\n",
    "\n",
    "        if len(id_changes) >= 6:\n",
    "            last_five_id_changes = id_changes[-5:]\n",
    "            if all(x == last_five_id_changes[0] for x in last_five_id_changes):\n",
    "                break\n",
    "\n",
    "        if created_at < since_date:\n",
    "            lower_id = toot['id']\n",
    "        else:\n",
    "            upper_id = toot['id']\n",
    "\n",
    "    print()  # To move to the next line in the terminal after the search is completed\n",
    "    return lower_id\n"
   ]
  },
  {
   "cell_type": "code",
   "execution_count": 123,
   "id": "e1a15ceb-08cb-4d38-9b00-340b08c4e43c",
   "metadata": {},
   "outputs": [],
   "source": [
    "since_date = datetime(2021, 12, 30)  # Fetch data since January 1, 2020\n",
    "until_date = datetime(2022, 1, 1)  # Fetch data until Januray 1, 2020"
   ]
  },
  {
   "cell_type": "code",
   "execution_count": 124,
   "id": "126f6e5a-e81a-4a2f-9502-a43ad8fcb7fa",
   "metadata": {},
   "outputs": [],
   "source": [
    "lower_id = 107476658235995721   \n",
    "upper_id = 107564295751148351 "
   ]
  },
  {
   "cell_type": "code",
   "execution_count": 125,
   "id": "7f708ba9-fde5-4c54-8e2a-e969689a6fb5",
   "metadata": {
    "scrolled": true,
    "tags": []
   },
   "outputs": [
    {
     "data": {
      "text/plain": [
       "[{'id': 107533255740844529,\n",
       "  'created_at': datetime.datetime(2021, 12, 30, 1, 21, 6, tzinfo=tzutc()),\n",
       "  'in_reply_to_id': None,\n",
       "  'in_reply_to_account_id': None,\n",
       "  'sensitive': False,\n",
       "  'spoiler_text': '',\n",
       "  'visibility': 'public',\n",
       "  'language': 'fr',\n",
       "  'uri': 'https://mastodon.social/users/Callystor/statuses/107533255733238174',\n",
       "  'url': 'https://mastodon.social/@Callystor/107533255733238174',\n",
       "  'replies_count': 0,\n",
       "  'reblogs_count': 0,\n",
       "  'favourites_count': 0,\n",
       "  'edited_at': None,\n",
       "  'favourited': False,\n",
       "  'reblogged': False,\n",
       "  'muted': False,\n",
       "  'bookmarked': False,\n",
       "  'content': \"<p>Juste pour le plaisir, ce démontage en règle de l'escroquerie néolibérale est à voir et revoir, spécialement en période électorale...<br>🙏 @caissesdegreve@twitter.com</p>\",\n",
       "  'filtered': [],\n",
       "  'reblog': None,\n",
       "  'account': {'id': 109425539629584732,\n",
       "   'username': 'Callystor',\n",
       "   'acct': 'Callystor@mastodon.social',\n",
       "   'display_name': '🌿🐝 Реми φ🍒🐢',\n",
       "   'locked': False,\n",
       "   'bot': False,\n",
       "   'discoverable': False,\n",
       "   'group': False,\n",
       "   'created_at': datetime.datetime(2021, 12, 7, 0, 0, tzinfo=tzutc()),\n",
       "   'note': \"<p>Principalement sur Twitter, mais heureux d'être également ici !<br>Bienvenue à toutes et tous</p>\",\n",
       "   'url': 'https://mastodon.social/@Callystor',\n",
       "   'avatar': 'https://static.theblower.au/cache/accounts/avatars/109/425/539/629/584/732/original/90d29edbd90bfeb1.jpg',\n",
       "   'avatar_static': 'https://static.theblower.au/cache/accounts/avatars/109/425/539/629/584/732/original/90d29edbd90bfeb1.jpg',\n",
       "   'header': 'https://static.theblower.au/cache/accounts/headers/109/425/539/629/584/732/original/317d6933ef0c0384.jpg',\n",
       "   'header_static': 'https://static.theblower.au/cache/accounts/headers/109/425/539/629/584/732/original/317d6933ef0c0384.jpg',\n",
       "   'followers_count': 681,\n",
       "   'following_count': 150,\n",
       "   'statuses_count': 4490,\n",
       "   'last_status_at': datetime.datetime(2023, 5, 14, 0, 0),\n",
       "   'emojis': [],\n",
       "   'fields': []},\n",
       "  'media_attachments': [{'id': 110365924874802131,\n",
       "    'type': 'video',\n",
       "    'url': 'https://static.theblower.au/cache/media_attachments/files/110/365/924/874/802/131/original/49e9113373d10278.mp4',\n",
       "    'preview_url': 'https://static.theblower.au/cache/media_attachments/files/110/365/924/874/802/131/small/49e9113373d10278.png',\n",
       "    'remote_url': 'https://files.mastodon.social/media_attachments/files/107/533/255/623/952/385/original/63f50ab522e7c7d2.mp4',\n",
       "    'preview_remote_url': None,\n",
       "    'text_url': None,\n",
       "    'meta': {'original': {'width': 1280,\n",
       "      'height': 720,\n",
       "      'frame_rate': '25/1',\n",
       "      'duration': 99.707,\n",
       "      'bitrate': 600239},\n",
       "     'small': {'width': 400,\n",
       "      'height': 225,\n",
       "      'size': '400x225',\n",
       "      'aspect': 1.7777777777777777}},\n",
       "    'description': None,\n",
       "    'blurhash': 'URHLMT8{%2R$DhR5M{kW~pR$kDtR4:S6NFt5'}],\n",
       "  'mentions': [],\n",
       "  'tags': [],\n",
       "  'emojis': [],\n",
       "  'card': None,\n",
       "  'poll': None}]"
      ]
     },
     "execution_count": 125,
     "metadata": {},
     "output_type": "execute_result"
    }
   ],
   "source": [
    "response = mastodon.timeline_public(min_id='107476658235995721', limit=1)\n",
    "response"
   ]
  },
  {
   "cell_type": "code",
   "execution_count": 126,
   "id": "7bfe11b7-d704-4724-a12e-ed4724ea61af",
   "metadata": {
    "scrolled": true,
    "tags": []
   },
   "outputs": [
    {
     "name": "stdout",
     "output_type": "stream",
     "text": [
      "107476658235995721 107564295751148351\n"
     ]
    },
    {
     "data": {
      "text/plain": [
       "107476658235995721"
      ]
     },
     "execution_count": 126,
     "metadata": {},
     "output_type": "execute_result"
    }
   ],
   "source": [
    "binary_search_date(since_date, until_date, lower_id, upper_id, mastodon)"
   ]
  },
  {
   "cell_type": "code",
   "execution_count": null,
   "id": "02baee5e-3a9e-4ff4-b007-f0c6030fe011",
   "metadata": {},
   "outputs": [],
   "source": [
    "MASTODON_SERVERS_INFO[0].api_base_url"
   ]
  },
  {
   "cell_type": "code",
   "execution_count": null,
   "id": "231a5f61-86a9-43b2-aef9-f589211e5f74",
   "metadata": {},
   "outputs": [],
   "source": [
    "mastodon = Mastodon(\n",
    "    client_id=MASTODON_SERVERS_INFO[0].client_id,\n",
    "    client_secret=MASTODON_SERVERS_INFO[0].client_secret,\n",
    "    access_token=MASTODON_SERVERS_INFO[0].access_token,\n",
    "    api_base_url=MASTODON_SERVERS_INFO[0].api_base_url\n",
    ")"
   ]
  },
  {
   "cell_type": "code",
   "execution_count": 84,
   "id": "a8787701-973d-423e-8411-4f2e09a306c4",
   "metadata": {},
   "outputs": [
    {
     "data": {
      "text/plain": [
       "'4.1.0'"
      ]
     },
     "execution_count": 84,
     "metadata": {},
     "output_type": "execute_result"
    }
   ],
   "source": [
    "mastodon.retrieve_mastodon_version()"
   ]
  },
  {
   "cell_type": "code",
   "execution_count": 14,
   "id": "12b46c8d-4f2b-4e7b-a299-790a27281f73",
   "metadata": {
    "scrolled": true,
    "tags": []
   },
   "outputs": [],
   "source": [
    "response = mastodon.timeline_public(min_id=103388556664584957, limit=40)"
   ]
  },
  {
   "cell_type": "code",
   "execution_count": 15,
   "id": "52b78c95-08d9-47ac-b336-d48f650524e1",
   "metadata": {},
   "outputs": [],
   "source": [
    "def normalize_string(input_string):\n",
    "    lemmatizer = WordNetLemmatizer()\n",
    "    tokens = nltk.word_tokenize(input_string)\n",
    "    normalized_tokens = [lemmatizer.lemmatize(token) for token in tokens]\n",
    "    normalized_string = ' '.join(normalized_tokens)\n",
    "    return normalized_string\n",
    "\n",
    "def sentiment_analysis(text):\n",
    "    sia = SentimentIntensityAnalyzer()\n",
    "    sentiment = sia.polarity_scores(text)\n",
    "    compound_score = sentiment['compound']\n",
    "    \n",
    "    if compound_score <= -0.8:\n",
    "        return 1\n",
    "    elif -0.8 < compound_score <= -0.6:\n",
    "        return 2\n",
    "    elif -0.6 < compound_score <= -0.4:\n",
    "        return 3\n",
    "    elif -0.4 < compound_score <= -0.2:\n",
    "        return 4\n",
    "    elif -0.2 < compound_score < 0.2:\n",
    "        return 5\n",
    "    elif 0.2 <= compound_score < 0.4:\n",
    "        return 6\n",
    "    elif 0.4 <= compound_score < 0.6:\n",
    "        return 7\n",
    "    elif 0.6 <= compound_score < 0.8:\n",
    "        return 8\n",
    "    else:\n",
    "        return 9"
   ]
  },
  {
   "cell_type": "code",
   "execution_count": 17,
   "id": "24d6727a-0d27-481c-8799-c5cb660aacc7",
   "metadata": {},
   "outputs": [
    {
     "data": {
      "text/plain": [
       "''"
      ]
     },
     "execution_count": 17,
     "metadata": {},
     "output_type": "execute_result"
    }
   ],
   "source": [
    "class Toot:\n",
    "    def __init__(self, tid=None, date=None, author=None, \n",
    "                 lang=None, content=None, score=None, tags=None):\n",
    "        self.tid = tid\n",
    "        self.date = date\n",
    "        self.author = author\n",
    "        self.lang = lang\n",
    "        self.content = content\n",
    "        self.score = score\n",
    "        self.tags = tags\n",
    "        \n",
    "    def __repr__(self):\n",
    "        return f\"Toot {self.tid}\"\n",
    "        \n",
    "    def to_dict(self):\n",
    "        data = dict(tid=self.tid, date=self.date,\n",
    "                    author=self.author, lang=self.lang,\n",
    "                    content=content.self.content, score=self.score)\n",
    "        return data\n",
    "\n",
    "def extract_mastodon_info(res):\n",
    "    toot_id = res.id\n",
    "    date = res.created_at.strftime(\"%Y-%m-%dT%H:%M:%S.000Z\")\n",
    "    lang = res.language\n",
    "    content = normalize_string(BeautifulSoup(res.content, 'html.parser').text)\n",
    "    score = sentiment_analysis(content)\n",
    "    tags = \"|\".join(res.tags)\n",
    "    \n",
    "    return Toot(tid=toot_id, date=date, lang=lang, content=content, score=score, tags=tags)\n",
    "\n",
    "extract_mastodon_info(response[-1]).tags"
   ]
  },
  {
   "cell_type": "code",
   "execution_count": null,
   "id": "3fa3b12f-0826-4731-acf7-586458a736ac",
   "metadata": {},
   "outputs": [],
   "source": []
  },
  {
   "cell_type": "code",
   "execution_count": 78,
   "id": "98043767-878c-4d02-9772-aa0d0a995b8c",
   "metadata": {},
   "outputs": [
    {
     "data": {
      "text/plain": [
       "{'id': 103388556698881147,\n",
       " 'created_at': datetime.datetime(2019, 12, 29, 1, 49, 36, tzinfo=tzutc()),\n",
       " 'in_reply_to_id': None,\n",
       " 'in_reply_to_account_id': None,\n",
       " 'sensitive': False,\n",
       " 'spoiler_text': '',\n",
       " 'visibility': 'public',\n",
       " 'language': 'ja',\n",
       " 'uri': 'https://vocalodon.net/users/hanapo/statuses/103388556591121713',\n",
       " 'url': 'https://vocalodon.net/@hanapo/103388556591121713',\n",
       " 'replies_count': 0,\n",
       " 'reblogs_count': 0,\n",
       " 'favourites_count': 0,\n",
       " 'edited_at': None,\n",
       " 'favourited': False,\n",
       " 'reblogged': False,\n",
       " 'muted': False,\n",
       " 'bookmarked': False,\n",
       " 'content': '<p>紙のしかなかったのでそれ買ってきた</p>',\n",
       " 'filtered': [],\n",
       " 'reblog': None,\n",
       " 'account': {'id': 103157,\n",
       "  'username': 'hanapo',\n",
       "  'acct': 'hanapo@vocalodon.net',\n",
       "  'display_name': 'はなぽ🍊わんわんPの皮',\n",
       "  'locked': False,\n",
       "  'bot': False,\n",
       "  'discoverable': True,\n",
       "  'group': False,\n",
       "  'created_at': datetime.datetime(2017, 4, 19, 0, 0, tzinfo=tzutc()),\n",
       "  'note': '<p>ニコニコ投稿曲：<a href=\"https://nico.ms/mylist/31873462\" rel=\"nofollow noopener noreferrer\" target=\"_blank\"><span>mylist/31873462</span></a><br>CDはこちら<br><a href=\"https://hanapo.booth.pm/\" rel=\"nofollow noopener noreferrer\" target=\"_blank\"><span class=\"invisible\">https://</span><span class=\"\">hanapo.booth.pm/</span><span class=\"invisible\"></span></a><br>FANBOXはこちら<br><a href=\"https://hanapo.fanbox.cc/\" rel=\"nofollow noopener noreferrer\" target=\"_blank\"><span class=\"invisible\">https://</span><span class=\"\">hanapo.fanbox.cc/</span><span class=\"invisible\"></span></a><br>お仕事はこちら<br><a href=\"https://work.colorfulbubble.net/\" rel=\"nofollow noopener noreferrer\" target=\"_blank\"><span class=\"invisible\">https://</span><span class=\"\">work.colorfulbubble.net/</span><span class=\"invisible\"></span></a><br>干芋のリスト<br><a href=\"https://www.amazon.jp/hz/wishlist/ls/S704YPEH3F4Q?ref_=w\" rel=\"nofollow noopener noreferrer\" target=\"_blank\"><span class=\"invisible\">https://www.</span><span class=\"ellipsis\">amazon.jp/hz/wishlist/ls/S704Y</span><span class=\"invisible\">PEH3F4Q?ref_=w</span></a></p>',\n",
       "  'url': 'https://vocalodon.net/@hanapo',\n",
       "  'avatar': 'https://files.mastodon.social/cache/accounts/avatars/000/103/157/original/1016de8a7fa83fbc.png',\n",
       "  'avatar_static': 'https://files.mastodon.social/cache/accounts/avatars/000/103/157/original/1016de8a7fa83fbc.png',\n",
       "  'header': 'https://files.mastodon.social/cache/accounts/headers/000/103/157/original/0c38189f78c24f9d.jpg',\n",
       "  'header_static': 'https://files.mastodon.social/cache/accounts/headers/000/103/157/original/0c38189f78c24f9d.jpg',\n",
       "  'followers_count': 852,\n",
       "  'following_count': 880,\n",
       "  'statuses_count': 193716,\n",
       "  'last_status_at': datetime.datetime(2023, 5, 14, 0, 0),\n",
       "  'emojis': [],\n",
       "  'fields': [{'name': 'ミックスのお仕事',\n",
       "    'value': '<a href=\"https://work.colorfulbubble.net/\" rel=\"nofollow noopener noreferrer\" target=\"_blank\"><span class=\"invisible\">https://</span><span class=\"\">work.colorfulbubble.net/</span><span class=\"invisible\"></span></a>',\n",
       "    'verified_at': None},\n",
       "   {'name': 'マスタリグのお仕事',\n",
       "    'value': '<a href=\"https://work.colorfulbubble.net/\" rel=\"nofollow noopener noreferrer\" target=\"_blank\"><span class=\"invisible\">https://</span><span class=\"\">work.colorfulbubble.net/</span><span class=\"invisible\"></span></a>',\n",
       "    'verified_at': None},\n",
       "   {'name': '俺の曲',\n",
       "    'value': '聞いて聞いて聞いて聞いて聞いて聞いて聞いて聞いて聞いて聞いて聞いて聞いて聞いて聞いて聞いて聞いて聞いて聞いて聞いて聞いて聞いて聞いて聞いて聞いて聞いて聞いて聞いて聞いて聞いて聞いて',\n",
       "    'verified_at': None},\n",
       "   {'name': 'お仕事は', 'value': 'フリーランスなのでお問い合わせください。', 'verified_at': None}]},\n",
       " 'media_attachments': [],\n",
       " 'mentions': [],\n",
       " 'tags': [],\n",
       " 'emojis': [],\n",
       " 'card': None,\n",
       " 'poll': None}"
      ]
     },
     "execution_count": 78,
     "metadata": {},
     "output_type": "execute_result"
    }
   ],
   "source": [
    "response[-1]"
   ]
  },
  {
   "cell_type": "code",
   "execution_count": 72,
   "id": "35f70433-58ca-45cd-be4e-30b3139cb093",
   "metadata": {},
   "outputs": [
    {
     "data": {
      "text/plain": [
       "40"
      ]
     },
     "execution_count": 72,
     "metadata": {},
     "output_type": "execute_result"
    }
   ],
   "source": [
    "len(mastodon.timeline_public(min_id=103388556698881147, limit=40))"
   ]
  },
  {
   "cell_type": "code",
   "execution_count": 55,
   "id": "4048a769-dd28-4cd3-93a0-b9d1be9b8585",
   "metadata": {},
   "outputs": [
    {
     "ename": "IndexError",
     "evalue": "list index out of range",
     "output_type": "error",
     "traceback": [
      "\u001b[0;31m---------------------------------------------------------------------------\u001b[0m",
      "\u001b[0;31mIndexError\u001b[0m                                Traceback (most recent call last)",
      "Cell \u001b[0;32mIn[55], line 1\u001b[0m\n\u001b[0;32m----> 1\u001b[0m binary_search_date(since_date, until_date, \n\u001b[1;32m      2\u001b[0m                    lower_id, upper_id, mastodon)\n",
      "Cell \u001b[0;32mIn[43], line 9\u001b[0m, in \u001b[0;36mbinary_search_date\u001b[0;34m(since_date, until_date, lower_id, upper_id, mastodon)\u001b[0m\n\u001b[1;32m      7\u001b[0m \u001b[38;5;28;01mwhile\u001b[39;00m \u001b[38;5;28;01mTrue\u001b[39;00m:\n\u001b[1;32m      8\u001b[0m     lower_toot \u001b[38;5;241m=\u001b[39m mastodon\u001b[38;5;241m.\u001b[39mtimeline_public(min_id\u001b[38;5;241m=\u001b[39mlower_id, limit\u001b[38;5;241m=\u001b[39m\u001b[38;5;241m1\u001b[39m)[\u001b[38;5;241m0\u001b[39m]\n\u001b[0;32m----> 9\u001b[0m     upper_toot \u001b[38;5;241m=\u001b[39m mastodon\u001b[38;5;241m.\u001b[39mtimeline_public(min_id\u001b[38;5;241m=\u001b[39mupper_id, limit\u001b[38;5;241m=\u001b[39m\u001b[38;5;241m1\u001b[39m)[\u001b[38;5;241m0\u001b[39m]\n\u001b[1;32m     11\u001b[0m     lower_created_at \u001b[38;5;241m=\u001b[39m lower_toot\u001b[38;5;241m.\u001b[39mget(\u001b[38;5;124m'\u001b[39m\u001b[38;5;124mcreated_at\u001b[39m\u001b[38;5;124m'\u001b[39m, datetime\u001b[38;5;241m.\u001b[39mutcnow())\u001b[38;5;241m.\u001b[39mastimezone(melbourne_tz)\n\u001b[1;32m     12\u001b[0m     upper_created_at \u001b[38;5;241m=\u001b[39m upper_toot\u001b[38;5;241m.\u001b[39mget(\u001b[38;5;124m'\u001b[39m\u001b[38;5;124mcreated_at\u001b[39m\u001b[38;5;124m'\u001b[39m, datetime\u001b[38;5;241m.\u001b[39mutcnow())\u001b[38;5;241m.\u001b[39mastimezone(melbourne_tz)\n",
      "\u001b[0;31mIndexError\u001b[0m: list index out of range"
     ]
    }
   ],
   "source": [
    "binary_search_date(since_date, until_date, \n",
    "                   lower_id, upper_id, mastodon)"
   ]
  },
  {
   "cell_type": "code",
   "execution_count": null,
   "id": "b8dc00f0-f198-4687-9b0e-ba473b0ccbcc",
   "metadata": {},
   "outputs": [],
   "source": []
  }
 ],
 "metadata": {
  "kernelspec": {
   "display_name": "Python 3 (ipykernel)",
   "language": "python",
   "name": "python3"
  },
  "language_info": {
   "codemirror_mode": {
    "name": "ipython",
    "version": 3
   },
   "file_extension": ".py",
   "mimetype": "text/x-python",
   "name": "python",
   "nbconvert_exporter": "python",
   "pygments_lexer": "ipython3",
   "version": "3.11.3"
  }
 },
 "nbformat": 4,
 "nbformat_minor": 5
}
