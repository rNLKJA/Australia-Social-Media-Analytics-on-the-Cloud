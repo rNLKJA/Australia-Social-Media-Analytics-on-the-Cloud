{
 "cells": [
  {
   "attachments": {},
   "cell_type": "markdown",
   "id": "02a72d7f",
   "metadata": {},
   "source": [
    "## Pre-requirements"
   ]
  },
  {
   "cell_type": "code",
   "execution_count": 45,
   "id": "a1944f4f-9136-419c-a8de-e1b1dbed9f1b",
   "metadata": {},
   "outputs": [],
   "source": [
    "# # obtain required packages\n",
    "# !pip install python-dotenv\n",
    "# !wget -P . https://files.pythonhosted.org/packages/cc/7a/240ac474f69a58a5dda0513557fe9c2ada279f7d5d836b93d5f6e05a9aa7/Mastodon.py-1.8.1.tar.gz "
   ]
  },
  {
   "cell_type": "code",
   "execution_count": 46,
   "id": "54c58e2b",
   "metadata": {},
   "outputs": [],
   "source": [
    "# # install Mastodon library for conda env\n",
    "# conda install Mastodon.py-1.8.1.tar.gz"
   ]
  },
  {
   "cell_type": "code",
   "execution_count": 47,
   "id": "adc19e00",
   "metadata": {},
   "outputs": [],
   "source": [
    "# # (OR try th following) install for conda env\n",
    "# conda install -c conda-forge python-dotenv\n",
    "# conda install -c conda-forge mastodon.py"
   ]
  },
  {
   "attachments": {},
   "cell_type": "markdown",
   "id": "ecc583e5",
   "metadata": {},
   "source": [
    "## File to record the data"
   ]
  },
  {
   "cell_type": "code",
   "execution_count": 48,
   "id": "42a8292c",
   "metadata": {},
   "outputs": [],
   "source": [
    "DATA_FILE = 'Mastodon_social_3.json'"
   ]
  },
  {
   "attachments": {},
   "cell_type": "markdown",
   "id": "47d3e1ea",
   "metadata": {},
   "source": [
    "## Check the pre-requirements are satisfied"
   ]
  },
  {
   "cell_type": "code",
   "execution_count": 49,
   "id": "9c591cb1-cebf-4486-b0f0-ca6865d18a80",
   "metadata": {},
   "outputs": [
    {
     "data": {
      "text/plain": [
       "True"
      ]
     },
     "execution_count": 49,
     "metadata": {},
     "output_type": "execute_result"
    }
   ],
   "source": [
    "# Import required packages\n",
    "from dotenv import load_dotenv\n",
    "from mastodon import Mastodon\n",
    "import os\n",
    "\n",
    "from bs4 import BeautifulSoup as bs4\n",
    "import requests\n",
    "\n",
    "# Load variables from .env file\n",
    "load_dotenv()"
   ]
  },
  {
   "attachments": {},
   "cell_type": "markdown",
   "id": "b5f45814",
   "metadata": {},
   "source": [
    "## Prepare for the Mastodon Harvester"
   ]
  },
  {
   "cell_type": "code",
   "execution_count": 50,
   "id": "65d15fa0-2b6a-4a03-948a-56a01d442cfd",
   "metadata": {},
   "outputs": [],
   "source": [
    "# obtain access token from Mastodon\n",
    "ACCESS_TOKEN = os.environ.get(\"MASTODON_ACCESS_TOKEN\")\n",
    "\n",
    "# define base URL\n",
    "BASE_URL = \"https://mastodon.social\""
   ]
  },
  {
   "cell_type": "code",
   "execution_count": 51,
   "id": "a5ee1e06-3ac6-4c75-81e3-3b4a6a800f4f",
   "metadata": {},
   "outputs": [
    {
     "data": {
      "text/plain": [
       "'4.1.2'"
      ]
     },
     "execution_count": 51,
     "metadata": {},
     "output_type": "execute_result"
    }
   ],
   "source": [
    "# create Mastodon client object\n",
    "mastodon = Mastodon(api_base_url=BASE_URL, access_token=ACCESS_TOKEN)\n",
    "mastodon.retrieve_mastodon_version()"
   ]
  },
  {
   "cell_type": "code",
   "execution_count": 52,
   "id": "253265a9-194b-4091-87cf-3cb0c3e3164c",
   "metadata": {},
   "outputs": [
    {
     "data": {
      "text/plain": [
       "'A history of the top marginal tax rates on the wealthiest Americans: 1940: 81%1950: 84% 1960: 91% 1970: 72% 1980: 70% 1990: 28% 2000: 40% 2010: 35% For 50 years, corporate backed politicians in Congress have slashed taxes to line the pockets of their wealthy donors.'"
      ]
     },
     "execution_count": 52,
     "metadata": {},
     "output_type": "execute_result"
    }
   ],
   "source": [
    "# sample scraper: use mastodon api to obtain content from a post, then parse it with BeautifulSoup\n",
    "bs4(mastodon.status(\"110284900191177710\")[\"content\"], 'html.parser').text"
   ]
  },
  {
   "cell_type": "code",
   "execution_count": 53,
   "id": "6621d169-a037-4003-b99c-54704353bffc",
   "metadata": {},
   "outputs": [],
   "source": [
    "# Import required packages\n",
    "from mastodon import Mastodon, MastodonNotFoundError, MastodonRatelimitError, StreamListener\n",
    "import csv, os, time, json\n",
    "\n",
    "# defien Mastodon client object\n",
    "m = Mastodon(\n",
    "        api_base_url=BASE_URL,\n",
    "        access_token=ACCESS_TOKEN\n",
    "    )\n",
    "\n",
    "# Define a Mastodon Listener class\n",
    "# This listener class will print out the JSON of any updates that come through the stream\n",
    "# Ti will be an infinite loop, so you will need to stop the program or kernel to stop it\n",
    "class MyListener(StreamListener):\n",
    "    def on_update(self, status):\n",
    "        # This function will be called whenever a new public message is received\n",
    "        # status is a dictionary containing the message data\n",
    "        with open(DATA_FILE, 'a', encoding='utf-8') as f:\n",
    "            # Append the new message to the JSON file\n",
    "            json.dump(status, f, indent=2, sort_keys=True, default=str)\n",
    "            f.write(',\\n')\n",
    "\n"
   ]
  },
  {
   "attachments": {},
   "cell_type": "markdown",
   "id": "1ce39be9",
   "metadata": {},
   "source": [
    "## Start (or Continue) harvesting"
   ]
  },
  {
   "cell_type": "code",
   "execution_count": 54,
   "id": "ad7ea8bb-8c2e-428c-b7d6-445660b26cda",
   "metadata": {},
   "outputs": [
    {
     "ename": "KeyboardInterrupt",
     "evalue": "",
     "output_type": "error",
     "traceback": [
      "\u001b[1;31m---------------------------------------------------------------------------\u001b[0m",
      "\u001b[1;31mKeyboardInterrupt\u001b[0m                         Traceback (most recent call last)",
      "\u001b[1;32m~\\AppData\\Local\\Temp\\ipykernel_28988\\954134180.py\u001b[0m in \u001b[0;36m<module>\u001b[1;34m\u001b[0m\n\u001b[0;32m     13\u001b[0m \u001b[1;33m\u001b[0m\u001b[0m\n\u001b[0;32m     14\u001b[0m \u001b[0mlistener\u001b[0m \u001b[1;33m=\u001b[0m \u001b[0mMyListener\u001b[0m\u001b[1;33m(\u001b[0m\u001b[1;33m)\u001b[0m\u001b[1;33m\u001b[0m\u001b[1;33m\u001b[0m\u001b[0m\n\u001b[1;32m---> 15\u001b[1;33m \u001b[0mm\u001b[0m\u001b[1;33m.\u001b[0m\u001b[0mstream_public\u001b[0m\u001b[1;33m(\u001b[0m\u001b[0mlistener\u001b[0m\u001b[1;33m)\u001b[0m\u001b[1;33m\u001b[0m\u001b[1;33m\u001b[0m\u001b[0m\n\u001b[0m",
      "\u001b[1;32md:\\anaconda3\\lib\\site-packages\\decorator.py\u001b[0m in \u001b[0;36mfun\u001b[1;34m(*args, **kw)\u001b[0m\n\u001b[0;32m    230\u001b[0m             \u001b[1;32mif\u001b[0m \u001b[1;32mnot\u001b[0m \u001b[0mkwsyntax\u001b[0m\u001b[1;33m:\u001b[0m\u001b[1;33m\u001b[0m\u001b[1;33m\u001b[0m\u001b[0m\n\u001b[0;32m    231\u001b[0m                 \u001b[0margs\u001b[0m\u001b[1;33m,\u001b[0m \u001b[0mkw\u001b[0m \u001b[1;33m=\u001b[0m \u001b[0mfix\u001b[0m\u001b[1;33m(\u001b[0m\u001b[0margs\u001b[0m\u001b[1;33m,\u001b[0m \u001b[0mkw\u001b[0m\u001b[1;33m,\u001b[0m \u001b[0msig\u001b[0m\u001b[1;33m)\u001b[0m\u001b[1;33m\u001b[0m\u001b[1;33m\u001b[0m\u001b[0m\n\u001b[1;32m--> 232\u001b[1;33m             \u001b[1;32mreturn\u001b[0m \u001b[0mcaller\u001b[0m\u001b[1;33m(\u001b[0m\u001b[0mfunc\u001b[0m\u001b[1;33m,\u001b[0m \u001b[1;33m*\u001b[0m\u001b[1;33m(\u001b[0m\u001b[0mextras\u001b[0m \u001b[1;33m+\u001b[0m \u001b[0margs\u001b[0m\u001b[1;33m)\u001b[0m\u001b[1;33m,\u001b[0m \u001b[1;33m**\u001b[0m\u001b[0mkw\u001b[0m\u001b[1;33m)\u001b[0m\u001b[1;33m\u001b[0m\u001b[1;33m\u001b[0m\u001b[0m\n\u001b[0m\u001b[0;32m    233\u001b[0m     \u001b[0mfun\u001b[0m\u001b[1;33m.\u001b[0m\u001b[0m__name__\u001b[0m \u001b[1;33m=\u001b[0m \u001b[0mfunc\u001b[0m\u001b[1;33m.\u001b[0m\u001b[0m__name__\u001b[0m\u001b[1;33m\u001b[0m\u001b[1;33m\u001b[0m\u001b[0m\n\u001b[0;32m    234\u001b[0m     \u001b[0mfun\u001b[0m\u001b[1;33m.\u001b[0m\u001b[0m__doc__\u001b[0m \u001b[1;33m=\u001b[0m \u001b[0mfunc\u001b[0m\u001b[1;33m.\u001b[0m\u001b[0m__doc__\u001b[0m\u001b[1;33m\u001b[0m\u001b[1;33m\u001b[0m\u001b[0m\n",
      "\u001b[1;32md:\\anaconda3\\lib\\site-packages\\mastodon\\utility.py\u001b[0m in \u001b[0;36mwrapper\u001b[1;34m(function, self, *args, **kwargs)\u001b[0m\n\u001b[0;32m     45\u001b[0m                 \u001b[1;32melif\u001b[0m \u001b[0mmajor\u001b[0m \u001b[1;33m==\u001b[0m \u001b[0mself\u001b[0m\u001b[1;33m.\u001b[0m\u001b[0mmastodon_major\u001b[0m \u001b[1;32mand\u001b[0m \u001b[0mminor\u001b[0m \u001b[1;33m==\u001b[0m \u001b[0mself\u001b[0m\u001b[1;33m.\u001b[0m\u001b[0mmastodon_minor\u001b[0m \u001b[1;32mand\u001b[0m \u001b[0mpatch\u001b[0m \u001b[1;33m>\u001b[0m \u001b[0mself\u001b[0m\u001b[1;33m.\u001b[0m\u001b[0mmastodon_patch\u001b[0m\u001b[1;33m:\u001b[0m\u001b[1;33m\u001b[0m\u001b[1;33m\u001b[0m\u001b[0m\n\u001b[0;32m     46\u001b[0m                     \u001b[1;32mraise\u001b[0m \u001b[0mMastodonVersionError\u001b[0m\u001b[1;33m(\u001b[0m\u001b[1;34m\"Version check failed (Need version \"\u001b[0m \u001b[1;33m+\u001b[0m \u001b[0mversion\u001b[0m \u001b[1;33m+\u001b[0m \u001b[1;34m\", patch is \"\u001b[0m \u001b[1;33m+\u001b[0m \u001b[0mstr\u001b[0m\u001b[1;33m(\u001b[0m\u001b[0mself\u001b[0m\u001b[1;33m.\u001b[0m\u001b[0mmastodon_patch\u001b[0m\u001b[1;33m)\u001b[0m \u001b[1;33m+\u001b[0m \u001b[1;34m\")\"\u001b[0m\u001b[1;33m)\u001b[0m\u001b[1;33m\u001b[0m\u001b[1;33m\u001b[0m\u001b[0m\n\u001b[1;32m---> 47\u001b[1;33m             \u001b[1;32mreturn\u001b[0m \u001b[0mfunction\u001b[0m\u001b[1;33m(\u001b[0m\u001b[0mself\u001b[0m\u001b[1;33m,\u001b[0m \u001b[1;33m*\u001b[0m\u001b[0margs\u001b[0m\u001b[1;33m,\u001b[0m \u001b[1;33m**\u001b[0m\u001b[0mkwargs\u001b[0m\u001b[1;33m)\u001b[0m\u001b[1;33m\u001b[0m\u001b[1;33m\u001b[0m\u001b[0m\n\u001b[0m\u001b[0;32m     48\u001b[0m         \u001b[0mfunction\u001b[0m\u001b[1;33m.\u001b[0m\u001b[0m__doc__\u001b[0m \u001b[1;33m=\u001b[0m \u001b[0mfunction\u001b[0m\u001b[1;33m.\u001b[0m\u001b[0m__doc__\u001b[0m \u001b[1;33m+\u001b[0m \u001b[1;34m\"\\n\\n        *Added: Mastodon v\"\u001b[0m \u001b[1;33m+\u001b[0m\u001b[0;31m \u001b[0m\u001b[0;31m\\\u001b[0m\u001b[1;33m\u001b[0m\u001b[1;33m\u001b[0m\u001b[0m\n\u001b[0;32m     49\u001b[0m             \u001b[0mcreated_ver\u001b[0m \u001b[1;33m+\u001b[0m \u001b[1;34m\", last changed: Mastodon v\"\u001b[0m \u001b[1;33m+\u001b[0m \u001b[0mlast_changed_ver\u001b[0m \u001b[1;33m+\u001b[0m \u001b[1;34m\"*\"\u001b[0m\u001b[1;33m\u001b[0m\u001b[1;33m\u001b[0m\u001b[0m\n",
      "\u001b[1;32md:\\anaconda3\\lib\\site-packages\\mastodon\\streaming_endpoints.py\u001b[0m in \u001b[0;36mstream_public\u001b[1;34m(self, listener, run_async, timeout, reconnect_async, reconnect_async_wait_sec)\u001b[0m\n\u001b[0;32m     25\u001b[0m         \u001b[0mStreams\u001b[0m \u001b[0mpublic\u001b[0m \u001b[0mevents\u001b[0m\u001b[1;33m.\u001b[0m\u001b[1;33m\u001b[0m\u001b[1;33m\u001b[0m\u001b[0m\n\u001b[0;32m     26\u001b[0m         \"\"\"\n\u001b[1;32m---> 27\u001b[1;33m         \u001b[1;32mreturn\u001b[0m \u001b[0mself\u001b[0m\u001b[1;33m.\u001b[0m\u001b[0m__stream\u001b[0m\u001b[1;33m(\u001b[0m\u001b[1;34m'/api/v1/streaming/public'\u001b[0m\u001b[1;33m,\u001b[0m \u001b[0mlistener\u001b[0m\u001b[1;33m,\u001b[0m \u001b[0mrun_async\u001b[0m\u001b[1;33m=\u001b[0m\u001b[0mrun_async\u001b[0m\u001b[1;33m,\u001b[0m \u001b[0mtimeout\u001b[0m\u001b[1;33m=\u001b[0m\u001b[0mtimeout\u001b[0m\u001b[1;33m,\u001b[0m \u001b[0mreconnect_async\u001b[0m\u001b[1;33m=\u001b[0m\u001b[0mreconnect_async\u001b[0m\u001b[1;33m,\u001b[0m \u001b[0mreconnect_async_wait_sec\u001b[0m\u001b[1;33m=\u001b[0m\u001b[0mreconnect_async_wait_sec\u001b[0m\u001b[1;33m)\u001b[0m\u001b[1;33m\u001b[0m\u001b[1;33m\u001b[0m\u001b[0m\n\u001b[0m\u001b[0;32m     28\u001b[0m \u001b[1;33m\u001b[0m\u001b[0m\n\u001b[0;32m     29\u001b[0m     \u001b[1;33m@\u001b[0m\u001b[0mapi_version\u001b[0m\u001b[1;33m(\u001b[0m\u001b[1;34m\"1.1.0\"\u001b[0m\u001b[1;33m,\u001b[0m \u001b[1;34m\"1.4.2\"\u001b[0m\u001b[1;33m,\u001b[0m \u001b[0m_DICT_VERSION_STATUS\u001b[0m\u001b[1;33m)\u001b[0m\u001b[1;33m\u001b[0m\u001b[1;33m\u001b[0m\u001b[0m\n",
      "\u001b[1;32md:\\anaconda3\\lib\\site-packages\\mastodon\\internals.py\u001b[0m in \u001b[0;36m__stream\u001b[1;34m(self, endpoint, listener, params, run_async, timeout, reconnect_async, reconnect_async_wait_sec)\u001b[0m\n\u001b[0;32m    542\u001b[0m             \u001b[0mconnection\u001b[0m \u001b[1;33m=\u001b[0m \u001b[0mconnect_func\u001b[0m\u001b[1;33m(\u001b[0m\u001b[1;33m)\u001b[0m\u001b[1;33m\u001b[0m\u001b[1;33m\u001b[0m\u001b[0m\n\u001b[0;32m    543\u001b[0m             \u001b[1;32mwith\u001b[0m \u001b[0mclosing\u001b[0m\u001b[1;33m(\u001b[0m\u001b[0mconnection\u001b[0m\u001b[1;33m)\u001b[0m \u001b[1;32mas\u001b[0m \u001b[0mr\u001b[0m\u001b[1;33m:\u001b[0m\u001b[1;33m\u001b[0m\u001b[1;33m\u001b[0m\u001b[0m\n\u001b[1;32m--> 544\u001b[1;33m                 \u001b[0mlistener\u001b[0m\u001b[1;33m.\u001b[0m\u001b[0mhandle_stream\u001b[0m\u001b[1;33m(\u001b[0m\u001b[0mr\u001b[0m\u001b[1;33m)\u001b[0m\u001b[1;33m\u001b[0m\u001b[1;33m\u001b[0m\u001b[0m\n\u001b[0m\u001b[0;32m    545\u001b[0m \u001b[1;33m\u001b[0m\u001b[0m\n\u001b[0;32m    546\u001b[0m     \u001b[1;32mdef\u001b[0m \u001b[0m__generate_params\u001b[0m\u001b[1;33m(\u001b[0m\u001b[0mself\u001b[0m\u001b[1;33m,\u001b[0m \u001b[0mparams\u001b[0m\u001b[1;33m,\u001b[0m \u001b[0mexclude\u001b[0m\u001b[1;33m=\u001b[0m\u001b[1;33m[\u001b[0m\u001b[1;33m]\u001b[0m\u001b[1;33m)\u001b[0m\u001b[1;33m:\u001b[0m\u001b[1;33m\u001b[0m\u001b[1;33m\u001b[0m\u001b[0m\n",
      "\u001b[1;32md:\\anaconda3\\lib\\site-packages\\mastodon\\streaming.py\u001b[0m in \u001b[0;36mhandle_stream\u001b[1;34m(self, response)\u001b[0m\n\u001b[0;32m    123\u001b[0m                                 )\n\u001b[0;32m    124\u001b[0m                             \u001b[1;32mif\u001b[0m \u001b[0mline\u001b[0m \u001b[1;33m==\u001b[0m \u001b[1;34m''\u001b[0m\u001b[1;33m:\u001b[0m\u001b[1;33m\u001b[0m\u001b[1;33m\u001b[0m\u001b[0m\n\u001b[1;32m--> 125\u001b[1;33m                                 \u001b[0mself\u001b[0m\u001b[1;33m.\u001b[0m\u001b[0m_dispatch\u001b[0m\u001b[1;33m(\u001b[0m\u001b[0mevent\u001b[0m\u001b[1;33m)\u001b[0m\u001b[1;33m\u001b[0m\u001b[1;33m\u001b[0m\u001b[0m\n\u001b[0m\u001b[0;32m    126\u001b[0m                                 \u001b[0mevent\u001b[0m \u001b[1;33m=\u001b[0m \u001b[1;33m{\u001b[0m\u001b[1;33m}\u001b[0m\u001b[1;33m\u001b[0m\u001b[1;33m\u001b[0m\u001b[0m\n\u001b[0;32m    127\u001b[0m                             \u001b[1;32melse\u001b[0m\u001b[1;33m:\u001b[0m\u001b[1;33m\u001b[0m\u001b[1;33m\u001b[0m\u001b[0m\n",
      "\u001b[1;32md:\\anaconda3\\lib\\site-packages\\mastodon\\streaming.py\u001b[0m in \u001b[0;36m_dispatch\u001b[1;34m(self, event)\u001b[0m\n\u001b[0;32m    214\u001b[0m                     \u001b[0mhandler\u001b[0m\u001b[1;33m(\u001b[0m\u001b[1;33m)\u001b[0m\u001b[1;33m\u001b[0m\u001b[1;33m\u001b[0m\u001b[0m\n\u001b[0;32m    215\u001b[0m                 \u001b[1;32melse\u001b[0m\u001b[1;33m:\u001b[0m\u001b[1;33m\u001b[0m\u001b[1;33m\u001b[0m\u001b[0m\n\u001b[1;32m--> 216\u001b[1;33m                     \u001b[0mhandler\u001b[0m\u001b[1;33m(\u001b[0m\u001b[0mpayload\u001b[0m\u001b[1;33m)\u001b[0m\u001b[1;33m\u001b[0m\u001b[1;33m\u001b[0m\u001b[0m\n\u001b[0m\u001b[0;32m    217\u001b[0m             \u001b[1;32melse\u001b[0m\u001b[1;33m:\u001b[0m\u001b[1;33m\u001b[0m\u001b[1;33m\u001b[0m\u001b[0m\n\u001b[0;32m    218\u001b[0m                 \u001b[0mhandler\u001b[0m\u001b[1;33m(\u001b[0m\u001b[0mname\u001b[0m\u001b[1;33m,\u001b[0m \u001b[0mpayload\u001b[0m\u001b[1;33m)\u001b[0m\u001b[1;33m\u001b[0m\u001b[1;33m\u001b[0m\u001b[0m\n",
      "\u001b[1;32m~\\AppData\\Local\\Temp\\ipykernel_28988\\2601817401.py\u001b[0m in \u001b[0;36mon_update\u001b[1;34m(self, status)\u001b[0m\n\u001b[0;32m     16\u001b[0m         \u001b[1;31m# This function will be called whenever a new public message is received\u001b[0m\u001b[1;33m\u001b[0m\u001b[1;33m\u001b[0m\u001b[0m\n\u001b[0;32m     17\u001b[0m         \u001b[1;31m# status is a dictionary containing the message data\u001b[0m\u001b[1;33m\u001b[0m\u001b[1;33m\u001b[0m\u001b[0m\n\u001b[1;32m---> 18\u001b[1;33m         \u001b[1;32mwith\u001b[0m \u001b[0mopen\u001b[0m\u001b[1;33m(\u001b[0m\u001b[0mDATA_FILE\u001b[0m\u001b[1;33m,\u001b[0m \u001b[1;34m'a'\u001b[0m\u001b[1;33m,\u001b[0m \u001b[0mencoding\u001b[0m\u001b[1;33m=\u001b[0m\u001b[1;34m'utf-8'\u001b[0m\u001b[1;33m)\u001b[0m \u001b[1;32mas\u001b[0m \u001b[0mf\u001b[0m\u001b[1;33m:\u001b[0m\u001b[1;33m\u001b[0m\u001b[1;33m\u001b[0m\u001b[0m\n\u001b[0m\u001b[0;32m     19\u001b[0m             \u001b[1;31m# Append the new message to the JSON file\u001b[0m\u001b[1;33m\u001b[0m\u001b[1;33m\u001b[0m\u001b[0m\n\u001b[0;32m     20\u001b[0m             \u001b[0mjson\u001b[0m\u001b[1;33m.\u001b[0m\u001b[0mdump\u001b[0m\u001b[1;33m(\u001b[0m\u001b[0mstatus\u001b[0m\u001b[1;33m,\u001b[0m \u001b[0mf\u001b[0m\u001b[1;33m,\u001b[0m \u001b[0mindent\u001b[0m\u001b[1;33m=\u001b[0m\u001b[1;36m2\u001b[0m\u001b[1;33m,\u001b[0m \u001b[0msort_keys\u001b[0m\u001b[1;33m=\u001b[0m\u001b[1;32mTrue\u001b[0m\u001b[1;33m,\u001b[0m \u001b[0mdefault\u001b[0m\u001b[1;33m=\u001b[0m\u001b[0mstr\u001b[0m\u001b[1;33m)\u001b[0m\u001b[1;33m\u001b[0m\u001b[1;33m\u001b[0m\u001b[0m\n",
      "\u001b[1;32md:\\anaconda3\\lib\\codecs.py\u001b[0m in \u001b[0;36m__init__\u001b[1;34m(self, errors)\u001b[0m\n\u001b[0;32m    184\u001b[0m     \u001b[0mremembers\u001b[0m \u001b[0mthe\u001b[0m \u001b[0mstate\u001b[0m \u001b[0mof\u001b[0m \u001b[0mthe\u001b[0m \u001b[0mencoding\u001b[0m \u001b[0mprocess\u001b[0m \u001b[0mbetween\u001b[0m \u001b[0mcalls\u001b[0m \u001b[0mto\u001b[0m \u001b[0mencode\u001b[0m\u001b[1;33m(\u001b[0m\u001b[1;33m)\u001b[0m\u001b[1;33m.\u001b[0m\u001b[1;33m\u001b[0m\u001b[1;33m\u001b[0m\u001b[0m\n\u001b[0;32m    185\u001b[0m     \"\"\"\n\u001b[1;32m--> 186\u001b[1;33m     \u001b[1;32mdef\u001b[0m \u001b[0m__init__\u001b[0m\u001b[1;33m(\u001b[0m\u001b[0mself\u001b[0m\u001b[1;33m,\u001b[0m \u001b[0merrors\u001b[0m\u001b[1;33m=\u001b[0m\u001b[1;34m'strict'\u001b[0m\u001b[1;33m)\u001b[0m\u001b[1;33m:\u001b[0m\u001b[1;33m\u001b[0m\u001b[1;33m\u001b[0m\u001b[0m\n\u001b[0m\u001b[0;32m    187\u001b[0m         \"\"\"\n\u001b[0;32m    188\u001b[0m         \u001b[0mCreates\u001b[0m \u001b[0man\u001b[0m \u001b[0mIncrementalEncoder\u001b[0m \u001b[0minstance\u001b[0m\u001b[1;33m.\u001b[0m\u001b[1;33m\u001b[0m\u001b[1;33m\u001b[0m\u001b[0m\n",
      "\u001b[1;31mKeyboardInterrupt\u001b[0m: "
     ]
    }
   ],
   "source": [
    "if not os.path.exists(DATA_FILE):\n",
    "    # start the list if NO harvesting\n",
    "    with open(DATA_FILE, 'a', encoding='utf-8') as f:\n",
    "        f.write('[\\n')  \n",
    "else:\n",
    "  # replace the last \"\\n]\" with \",\\n\" to keep going\n",
    "  with open(DATA_FILE, 'rb+') as f:\n",
    "    f.seek(-3, os.SEEK_END)\n",
    "    f.truncate()\n",
    "\n",
    "  with open(DATA_FILE, 'a') as f:\n",
    "    f.write(',\\n')\n",
    "\n",
    "listener = MyListener()\n",
    "m.stream_public(listener)"
   ]
  },
  {
   "attachments": {},
   "cell_type": "markdown",
   "id": "f912b308",
   "metadata": {},
   "source": [
    "## End harvesting"
   ]
  },
  {
   "cell_type": "code",
   "execution_count": 55,
   "id": "8f58f2a9",
   "metadata": {},
   "outputs": [],
   "source": [
    "# replace the last \",\\n\" with \"\\n]\" to end the list\n",
    "with open(DATA_FILE, 'rb+') as f:\n",
    "  f.seek(-3, os.SEEK_END)\n",
    "  f.truncate()\n",
    "\n",
    "with open(DATA_FILE, 'a') as f:\n",
    "  f.write('\\n]')\n",
    "\n"
   ]
  },
  {
   "attachments": {},
   "cell_type": "markdown",
   "id": "26f9675b",
   "metadata": {},
   "source": [
    "## Check the recorded file is in correct format: i.e., the file contains a list of json objects"
   ]
  },
  {
   "cell_type": "code",
   "execution_count": 56,
   "id": "49b59856",
   "metadata": {},
   "outputs": [
    {
     "name": "stdout",
     "output_type": "stream",
     "text": [
      "572\n"
     ]
    }
   ],
   "source": [
    "with open(DATA_FILE, 'r', encoding='utf-8') as f:\n",
    "    file = json.load(f)\n",
    "    print(len(file))"
   ]
  }
 ],
 "metadata": {
  "kernelspec": {
   "display_name": "Python 3 (ipykernel)",
   "language": "python",
   "name": "python3"
  },
  "language_info": {
   "codemirror_mode": {
    "name": "ipython",
    "version": 3
   },
   "file_extension": ".py",
   "mimetype": "text/x-python",
   "name": "python",
   "nbconvert_exporter": "python",
   "pygments_lexer": "ipython3",
   "version": "3.9.13"
  }
 },
 "nbformat": 4,
 "nbformat_minor": 5
}
