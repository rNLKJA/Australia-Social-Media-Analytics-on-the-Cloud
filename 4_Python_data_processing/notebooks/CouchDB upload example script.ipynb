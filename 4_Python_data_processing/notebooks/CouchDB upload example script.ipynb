{
 "cells": [
  {
   "cell_type": "code",
   "execution_count": 1,
   "id": "04043ca1-ae1a-462d-890f-398ea98deb3b",
   "metadata": {},
   "outputs": [],
   "source": [
    "import couchdb\n",
    "import dotenv\n",
    "import os"
   ]
  },
  {
   "cell_type": "code",
   "execution_count": 2,
   "id": "25a223d2-2777-475a-8c81-479ff4f88a5f",
   "metadata": {},
   "outputs": [
    {
     "data": {
      "text/plain": [
       "True"
      ]
     },
     "execution_count": 2,
     "metadata": {},
     "output_type": "execute_result"
    }
   ],
   "source": [
    "dotenv.load_dotenv()"
   ]
  },
  {
   "cell_type": "code",
   "execution_count": 3,
   "id": "414b873a-e065-468c-a66f-a6c15cd9eb83",
   "metadata": {},
   "outputs": [],
   "source": [
    "COUCHDB_HOST = os.environ['COUCHDB_HOST']\n",
    "COUCHDB_PORT = os.environ['COUCHDB_PORT']\n",
    "COUCHDB_USERNAME = os.environ['COUCHDB_USERNAME']\n",
    "COUCHDB_PASSWORD = os.environ['COUCHDB_PASSWORD']"
   ]
  },
  {
   "cell_type": "code",
   "execution_count": 25,
   "id": "c6928490-bf33-4776-b681-60becbaa25bd",
   "metadata": {},
   "outputs": [],
   "source": [
    "class CouchDB:\n",
    "    def __init__(self, dbname, host=COUCHDB_HOST, port=COUCHDB_PORT,\n",
    "                 username=COUCHDB_USERNAME, password=COUCHDB_PASSWORD):\n",
    "        self.host = host\n",
    "        self.port = port\n",
    "        self.username = username\n",
    "        self.password = password\n",
    "\n",
    "        self.instance_url = f\"http://{self.username}:{self.password}@{self.host}:{self.port}\"\n",
    "        self.server = couchdb.Server(self.instance_url)\n",
    "        self.db = self.get_or_create_database(dbname)\n",
    "\n",
    "    def __repr__(self):\n",
    "        return f\"{self.server} - {self.db}\"\n",
    "\n",
    "    def get_or_create_database(self, dbname):\n",
    "        try:\n",
    "            db = self.server.create(dbname)\n",
    "            print(f\"Database '{dbname}' created successfully.\")\n",
    "            return db\n",
    "        except couchdb.http.PreconditionFailed:\n",
    "            print(f\"Database '{dbname}' already exists.\")\n",
    "            return self.server[dbname]\n",
    "\n",
    "    def upload_document(self, data, verbose=False):\n",
    "        doc_id, doc_rev = self.db.save(data)\n",
    "        if verbose:\n",
    "            print(f\"Document uploaded with ID: {doc_id}\", end='\\r')\n",
    "        return doc_id\n",
    "\n",
    "    def get_document(self, doc_id):\n",
    "        try:\n",
    "            doc = self.db[doc_id]\n",
    "            return doc\n",
    "        except couchdb.http.ResourceNotFound:\n",
    "            print(f\"Document with ID '{doc_id}' not found.\")\n",
    "            return None\n",
    "\n",
    "    def delete_document(self, doc_id):\n",
    "        try:\n",
    "            doc = self.db[doc_id]\n",
    "            self.db.delete(doc)\n",
    "            print(f\"Document with ID '{doc_id}' deleted successfully.\")\n",
    "        except couchdb.http.ResourceNotFound:\n",
    "            print(f\"Document with ID '{doc_id}' not found.\")\n",
    "\n",
    "    def update_document(self, doc_id, updated_data):\n",
    "        doc = self.get_document(doc_id)\n",
    "        if doc:\n",
    "            doc.update(updated_data)\n",
    "            self.db.save(doc)\n",
    "            print(f\"Document with ID '{doc_id}' updated successfully.\")\n",
    "        else:\n",
    "            print(f\"Document with ID '{doc_id}' not found.\")\n",
    "\n",
    "    def list_documents(self):\n",
    "        return [doc for doc in self.db.view(\"_all_docs\")]"
   ]
  },
  {
   "cell_type": "code",
   "execution_count": 26,
   "id": "a1f958b6-a592-49da-ad55-31069e4419f7",
   "metadata": {},
   "outputs": [
    {
     "name": "stdout",
     "output_type": "stream",
     "text": [
      "Database 'twitter' already exists.\n"
     ]
    }
   ],
   "source": [
    "db = CouchDB('twitter')"
   ]
  },
  {
   "cell_type": "markdown",
   "id": "c9e87587-230e-404a-a428-00fda8132d17",
   "metadata": {},
   "source": [
    "## Sample usage, upload sal.json to database"
   ]
  },
  {
   "cell_type": "code",
   "execution_count": 36,
   "id": "fd35c7e0-33aa-4ec9-8cdc-0b5dcfc67ce9",
   "metadata": {},
   "outputs": [],
   "source": [
    "import pandas as pd\n",
    "from tqdm.notebook import tqdm"
   ]
  },
  {
   "cell_type": "code",
   "execution_count": 40,
   "id": "e847d398-fc26-47a5-b88a-22d16977d7cf",
   "metadata": {},
   "outputs": [
    {
     "data": {
      "text/html": [
       "<div>\n",
       "<style scoped>\n",
       "    .dataframe tbody tr th:only-of-type {\n",
       "        vertical-align: middle;\n",
       "    }\n",
       "\n",
       "    .dataframe tbody tr th {\n",
       "        vertical-align: top;\n",
       "    }\n",
       "\n",
       "    .dataframe thead th {\n",
       "        text-align: right;\n",
       "    }\n",
       "</style>\n",
       "<table border=\"1\" class=\"dataframe\">\n",
       "  <thead>\n",
       "    <tr style=\"text-align: right;\">\n",
       "      <th></th>\n",
       "      <th>location</th>\n",
       "      <th>gcc</th>\n",
       "      <th>sal</th>\n",
       "      <th>real_loc</th>\n",
       "    </tr>\n",
       "  </thead>\n",
       "  <tbody>\n",
       "    <tr>\n",
       "      <th>0</th>\n",
       "      <td>abbotsbury</td>\n",
       "      <td>1gsyd</td>\n",
       "      <td>10002</td>\n",
       "      <td>abbotsbury</td>\n",
       "    </tr>\n",
       "    <tr>\n",
       "      <th>1</th>\n",
       "      <td>abbotsford nsw</td>\n",
       "      <td>1gsyd</td>\n",
       "      <td>10003</td>\n",
       "      <td>abbotsford nsw</td>\n",
       "    </tr>\n",
       "    <tr>\n",
       "      <th>2</th>\n",
       "      <td>acacia gardens</td>\n",
       "      <td>1gsyd</td>\n",
       "      <td>10014</td>\n",
       "      <td>acacia gardens</td>\n",
       "    </tr>\n",
       "    <tr>\n",
       "      <th>3</th>\n",
       "      <td>agnes banks</td>\n",
       "      <td>1gsyd</td>\n",
       "      <td>10021</td>\n",
       "      <td>agnes banks</td>\n",
       "    </tr>\n",
       "    <tr>\n",
       "      <th>4</th>\n",
       "      <td>airds</td>\n",
       "      <td>1gsyd</td>\n",
       "      <td>10022</td>\n",
       "      <td>airds</td>\n",
       "    </tr>\n",
       "    <tr>\n",
       "      <th>...</th>\n",
       "      <td>...</td>\n",
       "      <td>...</td>\n",
       "      <td>...</td>\n",
       "      <td>...</td>\n",
       "    </tr>\n",
       "    <tr>\n",
       "      <th>17647</th>\n",
       "      <td>creek act</td>\n",
       "      <td>8acte</td>\n",
       "      <td>80013</td>\n",
       "      <td>rendezvous creek act</td>\n",
       "    </tr>\n",
       "    <tr>\n",
       "      <th>17648</th>\n",
       "      <td>weston creek</td>\n",
       "      <td>8acte</td>\n",
       "      <td>80016</td>\n",
       "      <td>weston creek act</td>\n",
       "    </tr>\n",
       "    <tr>\n",
       "      <th>17649</th>\n",
       "      <td>creek act</td>\n",
       "      <td>8acte</td>\n",
       "      <td>80016</td>\n",
       "      <td>weston creek act</td>\n",
       "    </tr>\n",
       "    <tr>\n",
       "      <th>17650</th>\n",
       "      <td>red hill</td>\n",
       "      <td>8acte</td>\n",
       "      <td>80112</td>\n",
       "      <td>red hill act</td>\n",
       "    </tr>\n",
       "    <tr>\n",
       "      <th>17651</th>\n",
       "      <td>hill act</td>\n",
       "      <td>8acte</td>\n",
       "      <td>80112</td>\n",
       "      <td>red hill act</td>\n",
       "    </tr>\n",
       "  </tbody>\n",
       "</table>\n",
       "<p>17652 rows × 4 columns</p>\n",
       "</div>"
      ],
      "text/plain": [
       "             location    gcc    sal              real_loc\n",
       "0          abbotsbury  1gsyd  10002            abbotsbury\n",
       "1      abbotsford nsw  1gsyd  10003        abbotsford nsw\n",
       "2      acacia gardens  1gsyd  10014        acacia gardens\n",
       "3         agnes banks  1gsyd  10021           agnes banks\n",
       "4               airds  1gsyd  10022                 airds\n",
       "...               ...    ...    ...                   ...\n",
       "17647       creek act  8acte  80013  rendezvous creek act\n",
       "17648    weston creek  8acte  80016      weston creek act\n",
       "17649       creek act  8acte  80016      weston creek act\n",
       "17650        red hill  8acte  80112          red hill act\n",
       "17651        hill act  8acte  80112          red hill act\n",
       "\n",
       "[17652 rows x 4 columns]"
      ]
     },
     "execution_count": 40,
     "metadata": {},
     "output_type": "execute_result"
    }
   ],
   "source": [
    "df = pd.read_pickle('../data/sal.pickle')\n",
    "df"
   ]
  },
  {
   "cell_type": "code",
   "execution_count": 41,
   "id": "6cb78320-962e-47e0-8431-85b351c67c5a",
   "metadata": {},
   "outputs": [
    {
     "name": "stdout",
     "output_type": "stream",
     "text": [
      "Database 'sal' created successfully.\n"
     ]
    }
   ],
   "source": [
    "db = CouchDB('sal')"
   ]
  },
  {
   "cell_type": "code",
   "execution_count": null,
   "id": "4c606db8-a263-42b1-9811-949f74867bdc",
   "metadata": {},
   "outputs": [
    {
     "data": {
      "application/vnd.jupyter.widget-view+json": {
       "model_id": "c2b7dcf669f2495d860c6e27b7458f7b",
       "version_major": 2,
       "version_minor": 0
      },
      "text/plain": [
       "Updating Documents:   0%|          | 0/17652 [00:00<?, ?it/s]"
      ]
     },
     "metadata": {},
     "output_type": "display_data"
    }
   ],
   "source": [
    "for _, data in tqdm(df.iterrows(), total=len(df), desc=\"Updating Documents\"):\n",
    "    db.upload_document(data.to_dict())"
   ]
  },
  {
   "cell_type": "code",
   "execution_count": null,
   "id": "0be8737c-a0db-4934-b507-4ff73db675ad",
   "metadata": {},
   "outputs": [],
   "source": []
  }
 ],
 "metadata": {
  "kernelspec": {
   "display_name": "ccc-a2",
   "language": "python",
   "name": "ccc-2"
  },
  "language_info": {
   "codemirror_mode": {
    "name": "ipython",
    "version": 3
   },
   "file_extension": ".py",
   "mimetype": "text/x-python",
   "name": "python",
   "nbconvert_exporter": "python",
   "pygments_lexer": "ipython3",
   "version": "3.11.3"
  }
 },
 "nbformat": 4,
 "nbformat_minor": 5
}
