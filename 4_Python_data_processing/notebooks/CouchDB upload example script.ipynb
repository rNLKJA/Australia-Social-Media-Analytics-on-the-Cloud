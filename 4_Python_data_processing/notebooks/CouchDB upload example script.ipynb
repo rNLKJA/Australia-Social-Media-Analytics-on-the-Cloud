{
 "cells": [
  {
   "cell_type": "code",
   "execution_count": 4,
   "id": "04043ca1-ae1a-462d-890f-398ea98deb3b",
   "metadata": {},
   "outputs": [],
   "source": [
    "import couchdb\n",
    "import dotenv\n",
    "import os"
   ]
  },
  {
   "cell_type": "code",
   "execution_count": 5,
   "id": "25a223d2-2777-475a-8c81-479ff4f88a5f",
   "metadata": {},
   "outputs": [
    {
     "data": {
      "text/plain": [
       "True"
      ]
     },
     "execution_count": 5,
     "metadata": {},
     "output_type": "execute_result"
    }
   ],
   "source": [
    "dotenv.load_dotenv()"
   ]
  },
  {
   "cell_type": "code",
   "execution_count": 6,
   "id": "414b873a-e065-468c-a66f-a6c15cd9eb83",
   "metadata": {},
   "outputs": [],
   "source": [
    "COUCHDB_HOST = os.environ['COUCHDB_HOST']\n",
    "COUCHDB_PORT = os.environ['COUCHDB_PORT']\n",
    "COUCHDB_USERNAME = os.environ['COUCHDB_USERNAME']\n",
    "COUCHDB_PASSWORD = os.environ['COUCHDB_PASSWORD']"
   ]
  },
  {
   "cell_type": "code",
   "execution_count": 7,
   "id": "58f68f4b-c518-4108-b90a-c70baa4f6cc0",
   "metadata": {},
   "outputs": [],
   "source": [
    "instance_url = f\"http://{COUCHDB_USERNAME}:{COUCHDB_PASSWORD}@{COUCHDB_HOST}:{COUCHDB_PORT}\"\n",
    "server = couchdb.Server(instance_url)"
   ]
  },
  {
   "cell_type": "code",
   "execution_count": 23,
   "id": "c6928490-bf33-4776-b681-60becbaa25bd",
   "metadata": {},
   "outputs": [],
   "source": [
    "class CouchDB:\n",
    "    def __init__(self, host=COUCHDB_HOST, port=COUCHDB_PORT, \n",
    "                 username=COUCHDB_USERNAME, password=COUCHDB_PASSWORD):\n",
    "        self.host = host,\n",
    "        self.port = port,\n",
    "        self.username = username\n",
    "        self.password = password\n",
    "\n",
    "        self.instance_url = f\"http://{self.username}:{self.password}@{self.host}:{self.port}\"\n",
    "        self.server = \"Server Disconnected\"\n",
    "    \n",
    "    def connect(self):\n",
    "        self.server = couchdb.Server(self.instance_url)\n",
    "        print(self.server)\n",
    "        \n",
    "    def __repr__(self):\n",
    "        return f\"{self.server}\"\n",
    "        \n",
    "    def connect(self):\n",
    "        self.server = couchdb.Server(self.instance_url)\n",
    "        print(self.server)\n",
    "        \n",
    "    def upload_document(self, db, data, verbose=False):\n",
    "        doc_id, doc_rev = db.save(data)\n",
    "        if verbose:\n",
    "            print(f\"Document uploaded with ID: {doc_id}\", end='\\r')\n",
    "    \n",
    "    def create_database(self, dbname):\n",
    "        try:\n",
    "            db = self.server.create(dbname)\n",
    "            print(f\"Database '{dbname}' created successfully.\")\n",
    "            return db\n",
    "        except couchdb.http.PreconditionFailed:\n",
    "            print(f\"Database '{dbname}' already exists.\")\n",
    "            return self.server[dbname]\n",
    "\n",
    "    def get_document(self, db, doc_id):\n",
    "        try:\n",
    "            doc = db[doc_id]\n",
    "            return doc\n",
    "        except couchdb.http.ResourceNotFound:\n",
    "            print(f\"Document with ID '{doc_id}' not found.\")\n",
    "            return None\n",
    "    \n",
    "    def delete_document(self, db, doc_id):\n",
    "        try:\n",
    "            doc = db[doc_id]\n",
    "            db.delete(doc)\n",
    "            print(f\"Document with ID '{doc_id}' deleted successfully.\")\n",
    "        except couchdb.http.ResourceNotFound:\n",
    "            print(f\"Document with ID '{doc_id}' not found.\")\n",
    "    \n",
    "    def update_document(self, db, doc_id, updated_data):\n",
    "        doc = self.get_document(db, doc_id)\n",
    "        if doc:\n",
    "            doc.update(updated_data)\n",
    "            db.save(doc)\n",
    "            print(f\"Document with ID '{doc_id}' updated successfully.\")\n",
    "        else:\n",
    "            print(f\"Document with ID '{doc_id}' not found.\")\n",
    "\n",
    "    def list_databases(self):\n",
    "        return self.server.all_dbs()\n",
    "\n",
    "    def list_documents(self, db):\n",
    "        return [doc for doc in db.view(\"_all_docs\")]\n",
    "\n"
   ]
  },
  {
   "cell_type": "code",
   "execution_count": 24,
   "id": "a1f958b6-a592-49da-ad55-31069e4419f7",
   "metadata": {},
   "outputs": [
    {
     "name": "stdout",
     "output_type": "stream",
     "text": [
      "<Server \"http://('172.26.134.180',):('5984',)\">\n"
     ]
    }
   ],
   "source": [
    "CouchDB().connect()"
   ]
  },
  {
   "cell_type": "code",
   "execution_count": 17,
   "id": "47501962-99d7-4cfc-833a-b9a568307680",
   "metadata": {},
   "outputs": [
    {
     "name": "stdout",
     "output_type": "stream",
     "text": [
      "Database 'twitter' already exists\n"
     ]
    }
   ],
   "source": [
    "db_name = 'twitter'\n",
    "# create a twitter database if not exist\n",
    "if db_name in server:\n",
    "    db = server[db_name]\n",
    "    print(f\"Database '{db_name}' already exists\")\n",
    "else:\n",
    "    db = server.create(db_name)\n",
    "    print(f\"Database '{db_name}' created\")"
   ]
  },
  {
   "cell_type": "code",
   "execution_count": 19,
   "id": "5bfad075-e256-4375-bcef-28b8b5b98ba7",
   "metadata": {},
   "outputs": [
    {
     "data": {
      "text/plain": [
       "couchdb.client.Database"
      ]
     },
     "execution_count": 19,
     "metadata": {},
     "output_type": "execute_result"
    }
   ],
   "source": [
    "# check db object\n",
    "type(db)"
   ]
  },
  {
   "cell_type": "code",
   "execution_count": 95,
   "id": "aea387f2-b7dc-4ad4-8343-122ded4e056f",
   "metadata": {},
   "outputs": [],
   "source": [
    "def upload_document(data: dict, db: couchdb.client.Database=db):\n",
    "    \"\"\"\n",
    "    Args:\n",
    "        data (dict): dictionary like object\n",
    "        db (couchdb.client.Database): target CouchDB database\n",
    "    Return:\n",
    "        _id: documentation id\n",
    "        rev: revision id\n",
    "    \"\"\"\n",
    "    try:\n",
    "        doc_id, doc_rev = db.save(data)\n",
    "        print(f\"Document uploaded with ID: {doc_id}\", end='\\r')\n",
    "    except couchdb.http.ResourceConflict:\n",
    "        # If the document already exists, update it with the latest data\n",
    "        doc_id = data['_id']\n",
    "        doc_rev = db[doc_id]['_rev']\n",
    "        data['_rev'] = doc_rev\n",
    "        db.save(data)\n",
    "        print(f\"Document updated with ID: {doc_id}\", end='\\r')"
   ]
  },
  {
   "cell_type": "code",
   "execution_count": 23,
   "id": "1ede31e0-8b35-4e4d-9a71-d1e6a11b349e",
   "metadata": {},
   "outputs": [],
   "source": [
    "import pandas as pd\n",
    "import numpy as np\n",
    "from pathlib import Path"
   ]
  },
  {
   "cell_type": "code",
   "execution_count": 71,
   "id": "32890810-c6b4-4b23-a75d-62c052d849d9",
   "metadata": {},
   "outputs": [
    {
     "data": {
      "text/plain": [
       "PosixPath('../data')"
      ]
     },
     "execution_count": 71,
     "metadata": {},
     "output_type": "execute_result"
    }
   ],
   "source": [
    "data_path = Path()/\"..\"/\"data\"\n",
    "data_path"
   ]
  },
  {
   "cell_type": "code",
   "execution_count": 72,
   "id": "242c71ec-6dd0-4092-8c68-e49279618c2a",
   "metadata": {},
   "outputs": [
    {
     "data": {
      "text/html": [
       "<div>\n",
       "<style scoped>\n",
       "    .dataframe tbody tr th:only-of-type {\n",
       "        vertical-align: middle;\n",
       "    }\n",
       "\n",
       "    .dataframe tbody tr th {\n",
       "        vertical-align: top;\n",
       "    }\n",
       "\n",
       "    .dataframe thead th {\n",
       "        text-align: right;\n",
       "    }\n",
       "</style>\n",
       "<table border=\"1\" class=\"dataframe\">\n",
       "  <thead>\n",
       "    <tr style=\"text-align: right;\">\n",
       "      <th></th>\n",
       "      <th>_id</th>\n",
       "      <th>author_id</th>\n",
       "      <th>created_at</th>\n",
       "      <th>location</th>\n",
       "      <th>possible_suburb</th>\n",
       "      <th>text</th>\n",
       "    </tr>\n",
       "  </thead>\n",
       "  <tbody>\n",
       "    <tr>\n",
       "      <th>1907371</th>\n",
       "      <td>1494150729711644672</td>\n",
       "      <td>1359453724729507840</td>\n",
       "      <td>2022-02-17 03:02:42+00:00</td>\n",
       "      <td></td>\n",
       "      <td></td>\n",
       "      <td>@rebelsbynight @taeuchi @xiuminnimida @phekms</td>\n",
       "    </tr>\n",
       "    <tr>\n",
       "      <th>1907372</th>\n",
       "      <td>1494150729711644672</td>\n",
       "      <td>1359453724729507840</td>\n",
       "      <td>2022-02-17 03:02:42+00:00</td>\n",
       "      <td></td>\n",
       "      <td></td>\n",
       "      <td>@rebelsbynight @taeuchi @xiuminnimida @phekms</td>\n",
       "    </tr>\n",
       "    <tr>\n",
       "      <th>1907373</th>\n",
       "      <td>1494150729711644672</td>\n",
       "      <td>1359453724729507840</td>\n",
       "      <td>2022-02-17 03:02:42+00:00</td>\n",
       "      <td></td>\n",
       "      <td></td>\n",
       "      <td>@rebelsbynight @taeuchi @xiuminnimida @phekms</td>\n",
       "    </tr>\n",
       "    <tr>\n",
       "      <th>1907374</th>\n",
       "      <td>1494150729711644672</td>\n",
       "      <td>1359453724729507840</td>\n",
       "      <td>2022-02-17 03:02:42+00:00</td>\n",
       "      <td></td>\n",
       "      <td></td>\n",
       "      <td>@rebelsbynight @taeuchi @xiuminnimida @phekms</td>\n",
       "    </tr>\n",
       "    <tr>\n",
       "      <th>1907375</th>\n",
       "      <td>1494275408849928192</td>\n",
       "      <td>1450989035644592128</td>\n",
       "      <td>2022-02-17 11:35:32+00:00</td>\n",
       "      <td></td>\n",
       "      <td></td>\n",
       "      <td>@rebelsbynight @emmaolivia9714 @PigCaSaurus @a...</td>\n",
       "    </tr>\n",
       "  </tbody>\n",
       "</table>\n",
       "</div>"
      ],
      "text/plain": [
       "                         _id            author_id                created_at   \n",
       "1907371  1494150729711644672  1359453724729507840 2022-02-17 03:02:42+00:00  \\\n",
       "1907372  1494150729711644672  1359453724729507840 2022-02-17 03:02:42+00:00   \n",
       "1907373  1494150729711644672  1359453724729507840 2022-02-17 03:02:42+00:00   \n",
       "1907374  1494150729711644672  1359453724729507840 2022-02-17 03:02:42+00:00   \n",
       "1907375  1494275408849928192  1450989035644592128 2022-02-17 11:35:32+00:00   \n",
       "\n",
       "        location possible_suburb   \n",
       "1907371                           \\\n",
       "1907372                            \n",
       "1907373                            \n",
       "1907374                            \n",
       "1907375                            \n",
       "\n",
       "                                                      text  \n",
       "1907371      @rebelsbynight @taeuchi @xiuminnimida @phekms  \n",
       "1907372      @rebelsbynight @taeuchi @xiuminnimida @phekms  \n",
       "1907373      @rebelsbynight @taeuchi @xiuminnimida @phekms  \n",
       "1907374      @rebelsbynight @taeuchi @xiuminnimida @phekms  \n",
       "1907375  @rebelsbynight @emmaolivia9714 @PigCaSaurus @a...  "
      ]
     },
     "execution_count": 72,
     "metadata": {},
     "output_type": "execute_result"
    }
   ],
   "source": [
    "df = pd.read_json(data_path/'twitter_cleaned_00.json')\n",
    "df.tail()"
   ]
  },
  {
   "cell_type": "code",
   "execution_count": 73,
   "id": "708139ed-deba-4c0c-ae82-46f44b7511d8",
   "metadata": {},
   "outputs": [
    {
     "data": {
      "text/plain": [
       "(1907376, 6)"
      ]
     },
     "execution_count": 73,
     "metadata": {},
     "output_type": "execute_result"
    }
   ],
   "source": [
    "df.shape"
   ]
  },
  {
   "cell_type": "code",
   "execution_count": 78,
   "id": "c218fb02-cf81-4838-992b-2261830c0aaa",
   "metadata": {},
   "outputs": [
    {
     "data": {
      "text/html": [
       "<div>\n",
       "<style scoped>\n",
       "    .dataframe tbody tr th:only-of-type {\n",
       "        vertical-align: middle;\n",
       "    }\n",
       "\n",
       "    .dataframe tbody tr th {\n",
       "        vertical-align: top;\n",
       "    }\n",
       "\n",
       "    .dataframe thead th {\n",
       "        text-align: right;\n",
       "    }\n",
       "</style>\n",
       "<table border=\"1\" class=\"dataframe\">\n",
       "  <thead>\n",
       "    <tr style=\"text-align: right;\">\n",
       "      <th></th>\n",
       "      <th>_id</th>\n",
       "      <th>author_id</th>\n",
       "      <th>created_at</th>\n",
       "      <th>location</th>\n",
       "      <th>possible_suburb</th>\n",
       "      <th>text</th>\n",
       "    </tr>\n",
       "  </thead>\n",
       "  <tbody>\n",
       "    <tr>\n",
       "      <th>0</th>\n",
       "      <td>1491571754170421248</td>\n",
       "      <td>1234462200623816704</td>\n",
       "      <td>2022-02-10 21:43:49+00:00</td>\n",
       "      <td></td>\n",
       "      <td></td>\n",
       "      <td>@von_battenberg Sorry for the hassle. Kindly s...</td>\n",
       "    </tr>\n",
       "    <tr>\n",
       "      <th>140</th>\n",
       "      <td>1491734528779763712</td>\n",
       "      <td>62407961</td>\n",
       "      <td>2022-02-10 16:51:31+00:00</td>\n",
       "      <td></td>\n",
       "      <td></td>\n",
       "      <td>@HerbsandDirt @iabfe medical FREEDOM for me</td>\n",
       "    </tr>\n",
       "    <tr>\n",
       "      <th>158</th>\n",
       "      <td>1491692008666439680</td>\n",
       "      <td>999027989898711040</td>\n",
       "      <td>2022-02-10 14:03:50+00:00</td>\n",
       "      <td></td>\n",
       "      <td></td>\n",
       "      <td>Vote republican in November please! https://t....</td>\n",
       "    </tr>\n",
       "    <tr>\n",
       "      <th>196</th>\n",
       "      <td>1491898152068448256</td>\n",
       "      <td>1071368432224940032</td>\n",
       "      <td>2022-02-10 04:43:55+00:00</td>\n",
       "      <td></td>\n",
       "      <td></td>\n",
       "      <td>@8bbbsnfhjd I'm pretty sure he's got other vid...</td>\n",
       "    </tr>\n",
       "    <tr>\n",
       "      <th>208</th>\n",
       "      <td>1491721359587627008</td>\n",
       "      <td>352311036</td>\n",
       "      <td>2022-02-10 22:44:37+00:00</td>\n",
       "      <td></td>\n",
       "      <td></td>\n",
       "      <td>@766Aka @meeez60356378 DM FOR SHOOTOUT\\nFollow...</td>\n",
       "    </tr>\n",
       "    <tr>\n",
       "      <th>...</th>\n",
       "      <td>...</td>\n",
       "      <td>...</td>\n",
       "      <td>...</td>\n",
       "      <td>...</td>\n",
       "      <td>...</td>\n",
       "      <td>...</td>\n",
       "    </tr>\n",
       "    <tr>\n",
       "      <th>1907299</th>\n",
       "      <td>1494127131877863424</td>\n",
       "      <td>3060756174</td>\n",
       "      <td>2022-02-17 01:42:20+00:00</td>\n",
       "      <td></td>\n",
       "      <td></td>\n",
       "      <td>@MemoryTuxedo1 Comings back later mama!</td>\n",
       "    </tr>\n",
       "    <tr>\n",
       "      <th>1907306</th>\n",
       "      <td>1494149176258547712</td>\n",
       "      <td>1229633724272132096</td>\n",
       "      <td>2022-02-17 01:45:14+00:00</td>\n",
       "      <td></td>\n",
       "      <td></td>\n",
       "      <td>@Music_Kitts Very sweet!</td>\n",
       "    </tr>\n",
       "    <tr>\n",
       "      <th>1907316</th>\n",
       "      <td>1494125057982877696</td>\n",
       "      <td>96924694</td>\n",
       "      <td>2022-02-17 02:05:07+00:00</td>\n",
       "      <td></td>\n",
       "      <td></td>\n",
       "      <td>Just posted a photo @ The Spit, Main Beach htt...</td>\n",
       "    </tr>\n",
       "    <tr>\n",
       "      <th>1907366</th>\n",
       "      <td>1494150729711644672</td>\n",
       "      <td>1359453724729507840</td>\n",
       "      <td>2022-02-17 03:02:42+00:00</td>\n",
       "      <td></td>\n",
       "      <td></td>\n",
       "      <td>@rebelsbynight @taeuchi @xiuminnimida @phekms</td>\n",
       "    </tr>\n",
       "    <tr>\n",
       "      <th>1907375</th>\n",
       "      <td>1494275408849928192</td>\n",
       "      <td>1450989035644592128</td>\n",
       "      <td>2022-02-17 11:35:32+00:00</td>\n",
       "      <td></td>\n",
       "      <td></td>\n",
       "      <td>@rebelsbynight @emmaolivia9714 @PigCaSaurus @a...</td>\n",
       "    </tr>\n",
       "  </tbody>\n",
       "</table>\n",
       "<p>78529 rows × 6 columns</p>\n",
       "</div>"
      ],
      "text/plain": [
       "                         _id            author_id                created_at   \n",
       "0        1491571754170421248  1234462200623816704 2022-02-10 21:43:49+00:00  \\\n",
       "140      1491734528779763712             62407961 2022-02-10 16:51:31+00:00   \n",
       "158      1491692008666439680   999027989898711040 2022-02-10 14:03:50+00:00   \n",
       "196      1491898152068448256  1071368432224940032 2022-02-10 04:43:55+00:00   \n",
       "208      1491721359587627008            352311036 2022-02-10 22:44:37+00:00   \n",
       "...                      ...                  ...                       ...   \n",
       "1907299  1494127131877863424           3060756174 2022-02-17 01:42:20+00:00   \n",
       "1907306  1494149176258547712  1229633724272132096 2022-02-17 01:45:14+00:00   \n",
       "1907316  1494125057982877696             96924694 2022-02-17 02:05:07+00:00   \n",
       "1907366  1494150729711644672  1359453724729507840 2022-02-17 03:02:42+00:00   \n",
       "1907375  1494275408849928192  1450989035644592128 2022-02-17 11:35:32+00:00   \n",
       "\n",
       "        location possible_suburb   \n",
       "0                                 \\\n",
       "140                                \n",
       "158                                \n",
       "196                                \n",
       "208                                \n",
       "...          ...             ...   \n",
       "1907299                            \n",
       "1907306                            \n",
       "1907316                            \n",
       "1907366                            \n",
       "1907375                            \n",
       "\n",
       "                                                      text  \n",
       "0        @von_battenberg Sorry for the hassle. Kindly s...  \n",
       "140            @HerbsandDirt @iabfe medical FREEDOM for me  \n",
       "158      Vote republican in November please! https://t....  \n",
       "196      @8bbbsnfhjd I'm pretty sure he's got other vid...  \n",
       "208      @766Aka @meeez60356378 DM FOR SHOOTOUT\\nFollow...  \n",
       "...                                                    ...  \n",
       "1907299            @MemoryTuxedo1 Comings back later mama!  \n",
       "1907306                           @Music_Kitts Very sweet!  \n",
       "1907316  Just posted a photo @ The Spit, Main Beach htt...  \n",
       "1907366      @rebelsbynight @taeuchi @xiuminnimida @phekms  \n",
       "1907375  @rebelsbynight @emmaolivia9714 @PigCaSaurus @a...  \n",
       "\n",
       "[78529 rows x 6 columns]"
      ]
     },
     "execution_count": 78,
     "metadata": {},
     "output_type": "execute_result"
    }
   ],
   "source": [
    "df.drop_duplicates('_id')"
   ]
  },
  {
   "cell_type": "code",
   "execution_count": 75,
   "id": "e4006a36-4a49-48a2-bc87-af99415686a9",
   "metadata": {},
   "outputs": [
    {
     "data": {
      "text/plain": [
       "'@von_battenberg Sorry for the hassle. Kindly send us an email at sm.groupon.au@groupon.com, and we will take this up further.\\\\n\\\\n- Roy'"
      ]
     },
     "execution_count": 75,
     "metadata": {},
     "output_type": "execute_result"
    }
   ],
   "source": [
    "df.loc[0].text"
   ]
  },
  {
   "cell_type": "code",
   "execution_count": null,
   "id": "c3cd7b7f-4aa9-4401-933a-99899eaa90ca",
   "metadata": {},
   "outputs": [],
   "source": []
  },
  {
   "cell_type": "code",
   "execution_count": 79,
   "id": "288c84f0-54b0-4514-bb4a-4660edeba340",
   "metadata": {},
   "outputs": [],
   "source": [
    "df._id = df._id.astype(str)\n",
    "df.author_id = df.author_id.astype(str)\n",
    "df.created_at = df.created_at.apply(lambda x: x.isoformat())"
   ]
  },
  {
   "cell_type": "code",
   "execution_count": 88,
   "id": "94361462-320b-4cea-aa24-be0861372ed4",
   "metadata": {},
   "outputs": [],
   "source": [
    "from tqdm.notebook import tqdm"
   ]
  },
  {
   "cell_type": "code",
   "execution_count": null,
   "id": "a256cc57-0b01-466e-bbad-2afa440ccbd8",
   "metadata": {
    "scrolled": true,
    "tags": []
   },
   "outputs": [],
   "source": [
    "for _, row in tqdm(df.drop_duplicates('_id').iterrows(), total=len(df.drop_duplicates('_id'))):\n",
    "    data = row.to_dict()\n",
    "    upload_document(data)"
   ]
  },
  {
   "cell_type": "code",
   "execution_count": 68,
   "id": "bc639f5b-222d-4a7e-80bd-8b178cacc697",
   "metadata": {},
   "outputs": [
    {
     "data": {
      "text/plain": [
       "(1907376, 6)"
      ]
     },
     "execution_count": 68,
     "metadata": {},
     "output_type": "execute_result"
    }
   ],
   "source": [
    "df.shape"
   ]
  },
  {
   "cell_type": "code",
   "execution_count": 59,
   "id": "ca54a7ae-9842-48e2-b35d-47d3cc870924",
   "metadata": {},
   "outputs": [
    {
     "name": "stdout",
     "output_type": "stream",
     "text": [
      "Document uploaded with ID: {_id}\n"
     ]
    }
   ],
   "source": [
    "upload_document(data)"
   ]
  },
  {
   "cell_type": "code",
   "execution_count": null,
   "id": "dedfd830-62ca-403b-8615-8a6af6ff355e",
   "metadata": {},
   "outputs": [],
   "source": []
  }
 ],
 "metadata": {
  "kernelspec": {
   "display_name": "ccc-a2",
   "language": "python",
   "name": "ccc-2"
  },
  "language_info": {
   "codemirror_mode": {
    "name": "ipython",
    "version": 3
   },
   "file_extension": ".py",
   "mimetype": "text/x-python",
   "name": "python",
   "nbconvert_exporter": "python",
   "pygments_lexer": "ipython3",
   "version": "3.11.3"
  }
 },
 "nbformat": 4,
 "nbformat_minor": 5
}
