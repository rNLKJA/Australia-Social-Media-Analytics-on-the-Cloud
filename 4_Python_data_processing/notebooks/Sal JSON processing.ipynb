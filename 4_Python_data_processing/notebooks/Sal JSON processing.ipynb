{
 "cells": [
  {
   "cell_type": "code",
   "execution_count": 11,
   "id": "7c17b1fd-d40e-4e48-b14b-c7fb14350ad8",
   "metadata": {},
   "outputs": [],
   "source": [
    "import pandas as pd\n",
    "import numpy as np\n",
    "from pathlib import Path\n",
    "import re"
   ]
  },
  {
   "cell_type": "code",
   "execution_count": 12,
   "id": "25b9c8f6-867a-4425-99ca-bef78e4b9f85",
   "metadata": {},
   "outputs": [],
   "source": [
    "# this code is adapted from https://github.com/rNLKJA/Unimelb-Master-2023-COMP90024-Assignment-1/blob/main/main.py\n",
    "# changes are required due to no need for polars dataframe\n",
    "# remove logger dependencies\n",
    "def split_location_into_ngrams(location):\n",
    "    words = location.split(\" \")\n",
    "    if len(words) > 2:\n",
    "        return [\" \".join(x) for x in zip(words, words[1:])]\n",
    "    return None\n",
    "\n",
    "def sal_processor(path: Path) -> pd.DataFrame:\n",
    "    \"\"\"\n",
    "    Process sal.json file by removing irrelevant attributes,\n",
    "    case 0: remove any gcc containing char r (r represents rural)\n",
    "    case 1: remove all brackets\n",
    "    case 2: remove all \" - \"\n",
    "    case 3: remove all \"\\.\"\n",
    "    Then store the final result into a csv file.\n",
    "\n",
    "    path (Path): root directory\n",
    "    \"\"\"\n",
    "    # load sal.json file & reset index\n",
    "    df = pd.read_json(path, orient=\"index\")\n",
    "    df = df.reset_index().rename(columns={\"index\": \"location\"})\n",
    "\n",
    "    df.drop([\"ste\", \"sal\"], axis=1, inplace=True)\n",
    "\n",
    "    # case1: replace all brackets with an empty string\n",
    "    # logger.info(\"Substitute brackets in location\")\n",
    "    df.location = df.agg(lambda x: re.sub(r\"[()]\", \"\", x.location), axis=1)\n",
    "\n",
    "    # case2: replace \" - \" with \" \"\n",
    "    # logger.info(\"Substitude string ' - ' with ' '\")\n",
    "    df.location = df.agg(lambda x: re.sub(\" - \", \" \", x.location), axis=1)\n",
    "\n",
    "    # case3: replace \"\\.\" with \"\"\n",
    "    # logger.info(\"Substitude \\. with an empty string\")\n",
    "    df.location = df.agg(lambda x: re.sub(\"\\.\", \"\", x.location), axis=1)\n",
    "\n",
    "    # case 4: consider ngram like locations\n",
    "    # generate a new dataframe and concate to the original one\n",
    "    df1 = df.copy()\n",
    "    df1[\"location\"] = df1.location.apply(lambda x: split_location_into_ngrams(x))\n",
    "    df1 = df1.dropna()[[\"location\", \"gcc\"]].explode(\"location\")\n",
    "\n",
    "    # concat the final result\n",
    "    res_df = pd.concat([df, df1], ignore_index=True, axis=0)\n",
    "\n",
    "    return res_df"
   ]
  },
  {
   "cell_type": "code",
   "execution_count": 13,
   "id": "a35d9862-dcc3-478b-a85b-5e7391ca888a",
   "metadata": {},
   "outputs": [],
   "source": [
    "sal_json_path = Path('../data/sal.json')"
   ]
  },
  {
   "cell_type": "code",
   "execution_count": 20,
   "id": "6866dac8-5497-44d6-a561-0bd4ebd14e16",
   "metadata": {},
   "outputs": [
    {
     "data": {
      "text/plain": [
       "PosixPath('/mnt/g/Unimelb-Master-2023-COMP90024-Assignment-2/4_Python_data_processing/data')"
      ]
     },
     "execution_count": 20,
     "metadata": {},
     "output_type": "execute_result"
    }
   ],
   "source": [
    "sal_json_path.resolve().parent"
   ]
  },
  {
   "cell_type": "code",
   "execution_count": 21,
   "id": "716153e3-0cf3-4cb9-b8b7-f42fccc1b54d",
   "metadata": {},
   "outputs": [],
   "source": [
    "sal_processor(sal_json_path).to_pickle(sal_json_path.resolve().parent / 'sal.pickle')\n",
    "sal_processor(sal_json_path).to_pickle(sal_json_path.resolve().parent / 'sal.processed.json')"
   ]
  },
  {
   "cell_type": "code",
   "execution_count": null,
   "id": "163189a8-213a-47c4-acb9-466041a4d831",
   "metadata": {},
   "outputs": [],
   "source": []
  }
 ],
 "metadata": {
  "kernelspec": {
   "display_name": "Python 3 (ipykernel)",
   "language": "python",
   "name": "python3"
  },
  "language_info": {
   "codemirror_mode": {
    "name": "ipython",
    "version": 3
   },
   "file_extension": ".py",
   "mimetype": "text/x-python",
   "name": "python",
   "nbconvert_exporter": "python",
   "pygments_lexer": "ipython3",
   "version": "3.10.9"
  }
 },
 "nbformat": 4,
 "nbformat_minor": 5
}
