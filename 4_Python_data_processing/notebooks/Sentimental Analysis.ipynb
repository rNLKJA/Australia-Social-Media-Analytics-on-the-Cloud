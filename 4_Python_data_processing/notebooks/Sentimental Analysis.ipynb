{
 "cells": [
  {
   "cell_type": "code",
   "execution_count": 27,
   "id": "bbb43c36-5760-4fd3-bd8a-3e6a720368de",
   "metadata": {},
   "outputs": [
    {
     "name": "stderr",
     "output_type": "stream",
     "text": [
      "[nltk_data] Downloading package vader_lexicon to\n",
      "[nltk_data]     /home/rin/nltk_data...\n",
      "[nltk_data]   Package vader_lexicon is already up-to-date!\n",
      "[nltk_data] Downloading package wordnet to /home/rin/nltk_data...\n",
      "[nltk_data]   Package wordnet is already up-to-date!\n",
      "[nltk_data] Downloading package punkt to /home/rin/nltk_data...\n",
      "[nltk_data]   Unzipping tokenizers/punkt.zip.\n"
     ]
    },
    {
     "data": {
      "text/plain": [
       "True"
      ]
     },
     "execution_count": 27,
     "metadata": {},
     "output_type": "execute_result"
    }
   ],
   "source": [
    "import nltk\n",
    "from nltk.sentiment import SentimentIntensityAnalyzer\n",
    "from nltk.stem import WordNetLemmatizer\n",
    "\n",
    "nltk.download('vader_lexicon')\n",
    "nltk.download('wordnet')\n",
    "nltk.download('punkt')"
   ]
  },
  {
   "cell_type": "code",
   "execution_count": 28,
   "id": "dbb76bad-a30d-4307-8b64-72e727687104",
   "metadata": {},
   "outputs": [],
   "source": [
    "def normalize_string(input_string):\n",
    "    lemmatizer = WordNetLemmatizer()\n",
    "    tokens = nltk.word_tokenize(input_string)\n",
    "    normalized_tokens = [lemmatizer.lemmatize(token) for token in tokens]\n",
    "    normalized_string = ' '.join(normalized_tokens)\n",
    "    return normalized_string"
   ]
  },
  {
   "cell_type": "code",
   "execution_count": 34,
   "id": "45a1e725-8bfe-4277-9538-74f77b3ea0b1",
   "metadata": {},
   "outputs": [
    {
     "name": "stdout",
     "output_type": "stream",
     "text": [
      "Hello ~ What a good weather ! hahahhah , lmao ! ! ! ! ! ! ! ! ! ! !\n"
     ]
    }
   ],
   "source": [
    "input_string = \"Hello ~ What a good weather! hahahhah, lmao!!!!!!!!!!!\"\n",
    "normalized_string = normalize_string(input_string)\n",
    "print(normalized_string)"
   ]
  },
  {
   "cell_type": "code",
   "execution_count": 35,
   "id": "a279733b-e56b-48a7-9d35-912a5f967acc",
   "metadata": {},
   "outputs": [],
   "source": [
    "def sentiment_analysis(text):\n",
    "    sia = SentimentIntensityAnalyzer()\n",
    "    sentiment = sia.polarity_scores(text)\n",
    "    compound_score = sentiment['compound']\n",
    "\n",
    "    if compound_score <= -0.6:\n",
    "        return 1\n",
    "    elif -0.6 < compound_score <= -0.2:\n",
    "        return 2\n",
    "    elif -0.2 < compound_score < 0.2:\n",
    "        return 3\n",
    "    elif 0.2 <= compound_score < 0.6:\n",
    "        return 4\n",
    "    else:\n",
    "        return 5"
   ]
  },
  {
   "cell_type": "code",
   "execution_count": 36,
   "id": "d2df849e-228d-45d2-9e37-c14426e25012",
   "metadata": {},
   "outputs": [],
   "source": [
    "def sentiment_description(score):\n",
    "    sentiment_dict = {\n",
    "        1: \"Strongly Negative\",\n",
    "        2: \"Negative\",\n",
    "        3: \"Neutral\",\n",
    "        4: \"Positive\",\n",
    "        5: \"Strongly Positive\"\n",
    "    }\n",
    "    \n",
    "    return sentiment_dict.get(score, \"Invalid score\")"
   ]
  },
  {
   "cell_type": "code",
   "execution_count": 39,
   "id": "ed9bfd88-2256-41e0-a93e-ff9517f35541",
   "metadata": {},
   "outputs": [],
   "source": [
    "sentiment_score = sentiment_analysis(input_string)\n",
    "sentiment_desc = sentiment_description(sentiment_score)"
   ]
  },
  {
   "cell_type": "code",
   "execution_count": 40,
   "id": "a2b65175-c9e4-4140-b0a5-0e67cbb2d576",
   "metadata": {},
   "outputs": [
    {
     "data": {
      "text/plain": [
       "(5, 'Strongly Positive')"
      ]
     },
     "execution_count": 40,
     "metadata": {},
     "output_type": "execute_result"
    }
   ],
   "source": [
    "sentiment_score, sentiment_desc"
   ]
  },
  {
   "cell_type": "code",
   "execution_count": null,
   "id": "e4477a6c-636e-41a8-a0df-9c9b4d3d372d",
   "metadata": {},
   "outputs": [],
   "source": []
  }
 ],
 "metadata": {
  "kernelspec": {
   "display_name": "Python 3 (ipykernel)",
   "language": "python",
   "name": "python3"
  },
  "language_info": {
   "codemirror_mode": {
    "name": "ipython",
    "version": 3
   },
   "file_extension": ".py",
   "mimetype": "text/x-python",
   "name": "python",
   "nbconvert_exporter": "python",
   "pygments_lexer": "ipython3",
   "version": "3.10.9"
  }
 },
 "nbformat": 4,
 "nbformat_minor": 5
}
