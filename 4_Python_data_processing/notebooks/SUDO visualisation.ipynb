{
 "cells": [
  {
   "cell_type": "code",
   "execution_count": 1,
   "id": "71bf9e04-7fc8-4848-aa98-19ed8125da1e",
   "metadata": {},
   "outputs": [],
   "source": [
    "import json\n",
    "import plotly.offline as pyo\n",
    "from plotly import graph_objects as go"
   ]
  },
  {
   "cell_type": "code",
   "execution_count": 2,
   "id": "dc1a6d10-6d79-4be5-b0d6-389f4d5fc612",
   "metadata": {},
   "outputs": [],
   "source": [
    "with open('../data/crime.json', 'r') as f:\n",
    "    plot_data = json.load(f)"
   ]
  },
  {
   "cell_type": "code",
   "execution_count": 3,
   "id": "538740fc-bff6-4c0e-af5d-c811198f959e",
   "metadata": {},
   "outputs": [],
   "source": [
    "fig = go.Figure(plot_data)"
   ]
  },
  {
   "cell_type": "code",
   "execution_count": 4,
   "id": "f327ca64-5f9c-4fd2-a775-f7b01195527a",
   "metadata": {},
   "outputs": [
    {
     "data": {
      "text/plain": [
       "'plot.html'"
      ]
     },
     "execution_count": 4,
     "metadata": {},
     "output_type": "execute_result"
    }
   ],
   "source": [
    "pyo.plot(fig, filename=\"plot.html\")"
   ]
  },
  {
   "cell_type": "code",
   "execution_count": null,
   "id": "355baa63-b618-4560-b558-01fdad6e50ce",
   "metadata": {},
   "outputs": [],
   "source": []
  }
 ],
 "metadata": {
  "kernelspec": {
   "display_name": "Python 3 (ipykernel)",
   "language": "python",
   "name": "python3"
  },
  "language_info": {
   "codemirror_mode": {
    "name": "ipython",
    "version": 3
   },
   "file_extension": ".py",
   "mimetype": "text/x-python",
   "name": "python",
   "nbconvert_exporter": "python",
   "pygments_lexer": "ipython3",
   "version": "3.10.9"
  }
 },
 "nbformat": 4,
 "nbformat_minor": 5
}
