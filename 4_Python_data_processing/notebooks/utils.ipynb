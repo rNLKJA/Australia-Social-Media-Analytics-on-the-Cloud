{
 "cells": [
  {
   "cell_type": "code",
   "execution_count": 1,
   "id": "6dc0984d-c94e-456e-9692-9087f6480da7",
   "metadata": {},
   "outputs": [],
   "source": [
    "class Twitter:\n",
    "    def __init__(self, tid=None, author=None, date=None, content=None, \n",
    "                 location=None, suburb=None, gcc=None):\n",
    "        self.tid = tid\n",
    "        self.author = author\n",
    "        self.date = date\n",
    "        self.content = content\n",
    "        self.location = location\n",
    "        self.suburb = suburb\n",
    "        self.gcc = gcc\n",
    "\n",
    "    def __repr__(self):\n",
    "        return f\"Twitter(tid={self.tid}, author={self.author}, date={self.date}, content={self.content}, \" \\\n",
    "               f\"location={self.location}, suburb={self.suburb}, gcc={self.gcc})\"\n",
    "\n",
    "    def to_dict(self):\n",
    "        return {\n",
    "            'tid': self.tid,\n",
    "            'author': self.author,\n",
    "            'date': self.date,\n",
    "            'content': self.content,\n",
    "            'location': self.location,\n",
    "            'suburb': self.suburb,\n",
    "            'gcc': self.gcc\n",
    "        }"
   ]
  },
  {
   "cell_type": "code",
   "execution_count": 23,
   "id": "8b957b5b-28a9-4692-8493-a2ff23cb9a56",
   "metadata": {},
   "outputs": [],
   "source": [
    "import re\n",
    "\n",
    "tweet_id = re.compile(r'\"id\":\"(\\d+)\"')\n",
    "author = re.compile(r'\"author_id\":\"(\\d+)\"')\n",
    "date = re.compile(r'\"created_at\":\"(.*?)\"')\n",
    "location = re.compile(r'\"full_name\":\"(.*?)\"')\n",
    "content = re.compile(r'\"text\":\"(.*?)\"')"
   ]
  },
  {
   "cell_type": "code",
   "execution_count": 16,
   "id": "ff0d0ff9-7523-4a26-8e50-f011787198c0",
   "metadata": {
    "scrolled": true,
    "tags": []
   },
   "outputs": [
    {
     "data": {
      "text/plain": [
       "'{\"id\":\"1491634806727528448\",\"key\":[2022,2,10,\"1051199957976444929\",\"881397602138370048\",\"1491634806727528448\"],\"value\":{\"tags\":\"\",\"tokens\":\"flew|from|Draw|the|route|map|Why|did|plane|way|out|the|way|over|the|Arctic|Why|didn|this|add|travel|time|airline|razor|thin|margins|has|nothing|gain|And|why|ARE|the|poles|cold|anyhow\"},\"doc\":{\"_id\":\"1491634806727528448\",\"_rev\":\"1-2b01f190c0fe1d48fcfdd84dd2377258\",\"data\":{\"author_id\":\"881397602138370048\",\"context_annotations\":[{\"domain\":{\"id\":\"67\",\"name\":\"Interests and Hobbies\",\"description\":\"Interests, opinions, and behaviors of individuals, groups, or cultures; like Speciality Cooking or Theme Parks\"},\"entity\":{\"id\":\"1037076248877395968\",\"name\":\"GPS and maps\",\"description\":\"GPS & Maps\"}}],\"conversation_id\":\"1051199957976444929\",\"created_at\":\"2022-02-10T04:47:05.000Z\",\"entities\":{\"annotations\":[{\"start\":697,\"end\":702,\"probability\":0.9954,\"type\":\"Place\",\"normalized_text\":\"London\"},{\"start\":707,\"end\":714,\"probability\":0.9037,\"type\":\"Place\",\"normalized_text\":\"Colorado\"}],\"mentions\":[{\"start\":0,\"end\":16,\"username\":\"ErikPar51701323\",\"id\":\"1439365597507186691\"},{\"start\":17,\"end\":33,\"username\":\"TerranceandPhi1\",\"id\":\"1363994166015967235\"},{\"start\":34,\"end\":44,\"username\":\"Tokyo_Tom\",\"id\":\"17184930\"},{\"start\":45,\"end\":59,\"username\":\"_Lost_My_Way_\",\"id\":\"958563410\"},{\"start\":60,\"end\":66,\"username\":\"KCTaz\",\"id\":\"16481548\"},{\"start\":67,\"end\":81,\"username\":\"earthisaglobe\",\"id\":\"950464698880876544\"},{\"start\":82,\"end\":95,\"username\":\"awright_1983\",\"id\":\"985064397574881280\"},{\"start\":96,\"end\":112,\"username\":\"abrashashapirus\",\"id\":\"233748016\"},{\"start\":113,\"end\":128,\"username\":\"AustralisPiper\",\"id\":\"1104935582558412800\"},{\"start\":129,\"end\":144,\"username\":\"Michael_D_Crow\",\"id\":\"822515689122447360\"},{\"start\":145,\"end\":158,\"username\":\"ElQuesoSabio\",\"id\":\"982663817040748544\"},{\"start\":159,\"end\":172,\"username\":\"MartinDn1001\",\"id\":\"68766856\"},{\"start\":173,\"end\":187,\"username\":\"NoelTurner194\",\"id\":\"4363091597\"},{\"start\":188,\"end\":200,\"username\":\"Enigma_2626\",\"id\":\"1464076160162144260\"},{\"start\":201,\"end\":211,\"username\":\"3GHtweets\",\"id\":\"563802166\"},{\"start\":212,\"end\":219,\"username\":\"1_TMF_\",\"id\":\"2398660411\"},{\"start\":220,\"end\":233,\"username\":\"JaggerMickOZ\",\"id\":\"2289423523\"},{\"start\":234,\"end\":244,\"username\":\"dunvirkin\",\"id\":\"1046763757\"},{\"start\":245,\"end\":261,\"username\":\"Kenneth72712993\",\"id\":\"1089405460929806336\"},{\"start\":262,\"end\":277,\"username\":\"Camburnclimate\",\"id\":\"237930862\"},{\"start\":278,\"end\":290,\"username\":\"EthonRaptor\",\"id\":\"1201951519\"},{\"start\":291,\"end\":307,\"username\":\"FriendsOScience\",\"id\":\"1004694289\"},{\"start\":308,\"end\":324,\"username\":\"coolvideolights\",\"id\":\"52910822\"},{\"start\":325,\"end\":334,\"username\":\"swcrisis\",\"id\":\"25805685\"},{\"start\":335,\"end\":344,\"username\":\"lapogus1\",\"id\":\"1049556745977257984\"},{\"start\":345,\"end\":355,\"username\":\"LisaMarOz\",\"id\":\"1079716138513121283\"},{\"start\":356,\"end\":365,\"username\":\"ellecam7\",\"id\":\"1237851734669586432\"},{\"start\":366,\"end\":382,\"username\":\"Patrickohennes4\",\"id\":\"803891800934993920\"},{\"start\":383,\"end\":396,\"username\":\"Cole44749821\",\"id\":\"1035959764495335424\"},{\"start\":397,\"end\":406,\"username\":\"CEF_1914\",\"id\":\"1024722273414991872\"},{\"start\":407,\"end\":418,\"username\":\"chuzbucket\",\"id\":\"27642118\"},{\"start\":419,\"end\":430,\"username\":\"GillesnFio\",\"id\":\"214173267\"},{\"start\":431,\"end\":446,\"username\":\"NikolovScience\",\"id\":\"884455440293269505\"},{\"start\":447,\"end\":455,\"username\":\"grantde\",\"id\":\"27473180\"},{\"start\":456,\"end\":468,\"username\":\"CymaticWave\",\"id\":\"735260235196047360\"},{\"start\":469,\"end\":478,\"username\":\"Gladfly1\",\"id\":\"2919200747\"},{\"start\":479,\"end\":491,\"username\":\"dvibrationz\",\"id\":\"867390942243958786\"},{\"start\":492,\"end\":508,\"username\":\"Cosmic_Engineer\",\"id\":\"943038836\"},{\"start\":509,\"end\":521,\"username\":\"prodreamer1\",\"id\":\"783072650725699585\"},{\"start\":522,\"end\":535,\"username\":\"ADevotedYogi\",\"id\":\"612931307\"},{\"start\":536,\"end\":549,\"username\":\"bjames280961\",\"id\":\"980930352477802496\"},{\"start\":550,\"end\":566,\"username\":\"badmoonrising11\",\"id\":\"360917219\"},{\"start\":567,\"end\":580,\"username\":\"elmarveerman\",\"id\":\"133239719\"},{\"start\":581,\"end\":595,\"username\":\"Achilles_1985\",\"id\":\"1002821053\"},{\"start\":596,\"end\":609,\"username\":\"PolAnimalAus\",\"id\":\"137313052\"},{\"start\":610,\"end\":626,\"username\":\"roberto_cojones\",\"id\":\"3406609307\"},{\"start\":627,\"end\":641,\"username\":\"EndT1Diabetes\",\"id\":\"169518646\"},{\"start\":642,\"end\":658,\"username\":\"pureunfoldment1\",\"id\":\"787771717661831168\"},{\"start\":659,\"end\":669,\"username\":\"MATTP1949\",\"id\":\"1250097950\"},{\"start\":670,\"end\":684,\"username\":\"Cris_Paunescu\",\"id\":\"904679539\"}]},\"geo\":{},\"lang\":\"en\",\"public_metrics\":{\"retweet_count\":0,\"reply_count\":0,\"like_count\":0,\"quote_count\":0},\"text\":\"@ErikPar51701323 @TerranceandPhi1 @Tokyo_Tom @_Lost_My_Way_ @KCTaz @earthisaglobe @awright_1983 @abrashashapirus @AustralisPiper @Michael_D_Crow @ElQuesoSabio @MartinDn1001 @NoelTurner194 @Enigma_2626 @3GHtweets @1_TMF_ @JaggerMickOZ @dunvirkin @Kenneth72712993 @Camburnclimate @EthonRaptor @FriendsOScience @coolvideolights @swcrisis @lapogus1 @LisaMarOz @ellecam7 @Patrickohennes4 @Cole44749821 @CEF_1914 @chuzbucket @GillesnFio @NikolovScience @grantde @CymaticWave @Gladfly1 @dvibrationz @Cosmic_Engineer @prodreamer1 @ADevotedYogi @bjames280961 @badmoonrising11 @elmarveerman @Achilles_1985 @PolAnimalAus @roberto_cojones @EndT1Diabetes @pureunfoldment1 @MATTP1949 @Cris_Paunescu I flew from London to Colorado. Draw the route on a map. Why did my plane go way out of the way over the Arctic? Why didn’t this add travel time? An airline on razor thin margins has nothing to gain. (And why ARE the poles cold anyhow?)\",\"sentiment\":-0.008928571428571428},\"matching_rules\":[{\"id\":\"1491447910617485312\",\"tag\":\"\"}]}}'"
      ]
     },
     "execution_count": 16,
     "metadata": {},
     "output_type": "execute_result"
    }
   ],
   "source": [
    "data = \"\"\"{\"id\":\"1491634806727528448\",\"key\":[2022,2,10,\"1051199957976444929\",\"881397602138370048\",\"1491634806727528448\"],\"value\":{\"tags\":\"\",\"tokens\":\"flew|from|Draw|the|route|map|Why|did|plane|way|out|the|way|over|the|Arctic|Why|didn|this|add|travel|time|airline|razor|thin|margins|has|nothing|gain|And|why|ARE|the|poles|cold|anyhow\"},\"doc\":{\"_id\":\"1491634806727528448\",\"_rev\":\"1-2b01f190c0fe1d48fcfdd84dd2377258\",\"data\":{\"author_id\":\"881397602138370048\",\"context_annotations\":[{\"domain\":{\"id\":\"67\",\"name\":\"Interests and Hobbies\",\"description\":\"Interests, opinions, and behaviors of individuals, groups, or cultures; like Speciality Cooking or Theme Parks\"},\"entity\":{\"id\":\"1037076248877395968\",\"name\":\"GPS and maps\",\"description\":\"GPS & Maps\"}}],\"conversation_id\":\"1051199957976444929\",\"created_at\":\"2022-02-10T04:47:05.000Z\",\"entities\":{\"annotations\":[{\"start\":697,\"end\":702,\"probability\":0.9954,\"type\":\"Place\",\"normalized_text\":\"London\"},{\"start\":707,\"end\":714,\"probability\":0.9037,\"type\":\"Place\",\"normalized_text\":\"Colorado\"}],\"mentions\":[{\"start\":0,\"end\":16,\"username\":\"ErikPar51701323\",\"id\":\"1439365597507186691\"},{\"start\":17,\"end\":33,\"username\":\"TerranceandPhi1\",\"id\":\"1363994166015967235\"},{\"start\":34,\"end\":44,\"username\":\"Tokyo_Tom\",\"id\":\"17184930\"},{\"start\":45,\"end\":59,\"username\":\"_Lost_My_Way_\",\"id\":\"958563410\"},{\"start\":60,\"end\":66,\"username\":\"KCTaz\",\"id\":\"16481548\"},{\"start\":67,\"end\":81,\"username\":\"earthisaglobe\",\"id\":\"950464698880876544\"},{\"start\":82,\"end\":95,\"username\":\"awright_1983\",\"id\":\"985064397574881280\"},{\"start\":96,\"end\":112,\"username\":\"abrashashapirus\",\"id\":\"233748016\"},{\"start\":113,\"end\":128,\"username\":\"AustralisPiper\",\"id\":\"1104935582558412800\"},{\"start\":129,\"end\":144,\"username\":\"Michael_D_Crow\",\"id\":\"822515689122447360\"},{\"start\":145,\"end\":158,\"username\":\"ElQuesoSabio\",\"id\":\"982663817040748544\"},{\"start\":159,\"end\":172,\"username\":\"MartinDn1001\",\"id\":\"68766856\"},{\"start\":173,\"end\":187,\"username\":\"NoelTurner194\",\"id\":\"4363091597\"},{\"start\":188,\"end\":200,\"username\":\"Enigma_2626\",\"id\":\"1464076160162144260\"},{\"start\":201,\"end\":211,\"username\":\"3GHtweets\",\"id\":\"563802166\"},{\"start\":212,\"end\":219,\"username\":\"1_TMF_\",\"id\":\"2398660411\"},{\"start\":220,\"end\":233,\"username\":\"JaggerMickOZ\",\"id\":\"2289423523\"},{\"start\":234,\"end\":244,\"username\":\"dunvirkin\",\"id\":\"1046763757\"},{\"start\":245,\"end\":261,\"username\":\"Kenneth72712993\",\"id\":\"1089405460929806336\"},{\"start\":262,\"end\":277,\"username\":\"Camburnclimate\",\"id\":\"237930862\"},{\"start\":278,\"end\":290,\"username\":\"EthonRaptor\",\"id\":\"1201951519\"},{\"start\":291,\"end\":307,\"username\":\"FriendsOScience\",\"id\":\"1004694289\"},{\"start\":308,\"end\":324,\"username\":\"coolvideolights\",\"id\":\"52910822\"},{\"start\":325,\"end\":334,\"username\":\"swcrisis\",\"id\":\"25805685\"},{\"start\":335,\"end\":344,\"username\":\"lapogus1\",\"id\":\"1049556745977257984\"},{\"start\":345,\"end\":355,\"username\":\"LisaMarOz\",\"id\":\"1079716138513121283\"},{\"start\":356,\"end\":365,\"username\":\"ellecam7\",\"id\":\"1237851734669586432\"},{\"start\":366,\"end\":382,\"username\":\"Patrickohennes4\",\"id\":\"803891800934993920\"},{\"start\":383,\"end\":396,\"username\":\"Cole44749821\",\"id\":\"1035959764495335424\"},{\"start\":397,\"end\":406,\"username\":\"CEF_1914\",\"id\":\"1024722273414991872\"},{\"start\":407,\"end\":418,\"username\":\"chuzbucket\",\"id\":\"27642118\"},{\"start\":419,\"end\":430,\"username\":\"GillesnFio\",\"id\":\"214173267\"},{\"start\":431,\"end\":446,\"username\":\"NikolovScience\",\"id\":\"884455440293269505\"},{\"start\":447,\"end\":455,\"username\":\"grantde\",\"id\":\"27473180\"},{\"start\":456,\"end\":468,\"username\":\"CymaticWave\",\"id\":\"735260235196047360\"},{\"start\":469,\"end\":478,\"username\":\"Gladfly1\",\"id\":\"2919200747\"},{\"start\":479,\"end\":491,\"username\":\"dvibrationz\",\"id\":\"867390942243958786\"},{\"start\":492,\"end\":508,\"username\":\"Cosmic_Engineer\",\"id\":\"943038836\"},{\"start\":509,\"end\":521,\"username\":\"prodreamer1\",\"id\":\"783072650725699585\"},{\"start\":522,\"end\":535,\"username\":\"ADevotedYogi\",\"id\":\"612931307\"},{\"start\":536,\"end\":549,\"username\":\"bjames280961\",\"id\":\"980930352477802496\"},{\"start\":550,\"end\":566,\"username\":\"badmoonrising11\",\"id\":\"360917219\"},{\"start\":567,\"end\":580,\"username\":\"elmarveerman\",\"id\":\"133239719\"},{\"start\":581,\"end\":595,\"username\":\"Achilles_1985\",\"id\":\"1002821053\"},{\"start\":596,\"end\":609,\"username\":\"PolAnimalAus\",\"id\":\"137313052\"},{\"start\":610,\"end\":626,\"username\":\"roberto_cojones\",\"id\":\"3406609307\"},{\"start\":627,\"end\":641,\"username\":\"EndT1Diabetes\",\"id\":\"169518646\"},{\"start\":642,\"end\":658,\"username\":\"pureunfoldment1\",\"id\":\"787771717661831168\"},{\"start\":659,\"end\":669,\"username\":\"MATTP1949\",\"id\":\"1250097950\"},{\"start\":670,\"end\":684,\"username\":\"Cris_Paunescu\",\"id\":\"904679539\"}]},\"geo\":{},\"lang\":\"en\",\"public_metrics\":{\"retweet_count\":0,\"reply_count\":0,\"like_count\":0,\"quote_count\":0},\"text\":\"@ErikPar51701323 @TerranceandPhi1 @Tokyo_Tom @_Lost_My_Way_ @KCTaz @earthisaglobe @awright_1983 @abrashashapirus @AustralisPiper @Michael_D_Crow @ElQuesoSabio @MartinDn1001 @NoelTurner194 @Enigma_2626 @3GHtweets @1_TMF_ @JaggerMickOZ @dunvirkin @Kenneth72712993 @Camburnclimate @EthonRaptor @FriendsOScience @coolvideolights @swcrisis @lapogus1 @LisaMarOz @ellecam7 @Patrickohennes4 @Cole44749821 @CEF_1914 @chuzbucket @GillesnFio @NikolovScience @grantde @CymaticWave @Gladfly1 @dvibrationz @Cosmic_Engineer @prodreamer1 @ADevotedYogi @bjames280961 @badmoonrising11 @elmarveerman @Achilles_1985 @PolAnimalAus @roberto_cojones @EndT1Diabetes @pureunfoldment1 @MATTP1949 @Cris_Paunescu I flew from London to Colorado. Draw the route on a map. Why did my plane go way out of the way over the Arctic? Why didn’t this add travel time? An airline on razor thin margins has nothing to gain. (And why ARE the poles cold anyhow?)\",\"sentiment\":-0.008928571428571428},\"matching_rules\":[{\"id\":\"1491447910617485312\",\"tag\":\"\"}]}}\"\"\"\n",
    "data"
   ]
  },
  {
   "cell_type": "code",
   "execution_count": 22,
   "id": "1b82d333-0c1b-4215-aed5-7428969356dc",
   "metadata": {},
   "outputs": [
    {
     "data": {
      "text/plain": [
       "True"
      ]
     },
     "execution_count": 22,
     "metadata": {},
     "output_type": "execute_result"
    }
   ],
   "source": [
    "\"I flew\" in data"
   ]
  },
  {
   "cell_type": "code",
   "execution_count": 25,
   "id": "1f3384fc-fe43-4111-b690-7e40f6a2021b",
   "metadata": {},
   "outputs": [
    {
     "data": {
      "text/plain": [
       "'I flew from London to Colorado. Draw the route on a map. Why did my plane go way out of the way over the Arctic? Why didn’t this add travel time? An airline on razor thin margins has nothing to gain. (And why ARE the poles cold anyhow?)'"
      ]
     },
     "execution_count": 25,
     "metadata": {},
     "output_type": "execute_result"
    }
   ],
   "source": [
    "tweet_id.search(data).group(1), author.search(data).group(1), date.search(data).group(1), \n",
    "location.search(data).group(1) if location.search(data) else \"\",\n",
    "re.sub(r'@\\w+\\s*', '', content.search(data).group(1))"
   ]
  }
 ],
 "metadata": {
  "kernelspec": {
   "display_name": "Python 3 (ipykernel)",
   "language": "python",
   "name": "python3"
  },
  "language_info": {
   "codemirror_mode": {
    "name": "ipython",
    "version": 3
   },
   "file_extension": ".py",
   "mimetype": "text/x-python",
   "name": "python",
   "nbconvert_exporter": "python",
   "pygments_lexer": "ipython3",
   "version": "3.10.9"
  }
 },
 "nbformat": 4,
 "nbformat_minor": 5
}
