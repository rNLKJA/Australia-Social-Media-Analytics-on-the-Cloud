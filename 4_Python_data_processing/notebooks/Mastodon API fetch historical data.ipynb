{
 "cells": [
  {
   "cell_type": "code",
   "execution_count": 29,
   "id": "4868e99a-a4bc-4cc2-ab43-25192a59c507",
   "metadata": {},
   "outputs": [
    {
     "data": {
      "text/plain": [
       "True"
      ]
     },
     "execution_count": 29,
     "metadata": {},
     "output_type": "execute_result"
    }
   ],
   "source": [
    "from mastodon import Mastodon\n",
    "from datetime import datetime\n",
    "import pytz\n",
    "\n",
    "import os\n",
    "from dotenv import load_dotenv\n",
    "\n",
    "import requests\n",
    "\n",
    "import pandas as pd\n",
    "import numpy as np\n",
    "\n",
    "from tabulate import tabulate\n",
    "\n",
    "load_dotenv()"
   ]
  },
  {
   "cell_type": "code",
   "execution_count": 30,
   "id": "0f81f7ed-8d57-444a-a237-905721e65b5e",
   "metadata": {},
   "outputs": [],
   "source": [
    "mastodon = Mastodon(\n",
    "    client_id=os.environ.get(\"MASTODON_CLIENT_KEY\"),\n",
    "    client_secret=os.environ.get(\"MASTODON_CLIENT_SECRET\"),\n",
    "    access_token=os.environ.get(\"MASTODON_ACCESS_TOKEN\"),\n",
    "    api_base_url=os.environ.get(\"MASTODON_URL_SOCIAL\")\n",
    ")"
   ]
  },
  {
   "cell_type": "code",
   "execution_count": 54,
   "id": "cfc277a3-3d36-40f8-8c8f-ed1465c3482c",
   "metadata": {
    "scrolled": true,
    "tags": []
   },
   "outputs": [
    {
     "data": {
      "text/plain": [
       "[{'id': 102404663826836508,\n",
       "  'created_at': datetime.datetime(2019, 7, 8, 7, 32, 42, 108000, tzinfo=tzutc()),\n",
       "  'in_reply_to_id': None,\n",
       "  'in_reply_to_account_id': None,\n",
       "  'sensitive': False,\n",
       "  'spoiler_text': '',\n",
       "  'visibility': 'public',\n",
       "  'language': 'ja',\n",
       "  'uri': 'https://misskey.io/notes/7uxmu6f06g',\n",
       "  'url': 'https://misskey.io/notes/7uxmu6f06g',\n",
       "  'replies_count': 0,\n",
       "  'reblogs_count': 0,\n",
       "  'favourites_count': 0,\n",
       "  'edited_at': None,\n",
       "  'favourited': False,\n",
       "  'reblogged': False,\n",
       "  'muted': False,\n",
       "  'bookmarked': False,\n",
       "  'content': '<p><span>散歩して晩ごはん作ってた</span></p>',\n",
       "  'filtered': [],\n",
       "  'reblog': None,\n",
       "  'account': {'id': 788769,\n",
       "   'username': 'noizenecio',\n",
       "   'acct': 'noizenecio@misskey.io',\n",
       "   'display_name': 'Noizenecio',\n",
       "   'locked': False,\n",
       "   'bot': False,\n",
       "   'discoverable': True,\n",
       "   'group': False,\n",
       "   'created_at': datetime.datetime(2019, 4, 15, 0, 0, tzinfo=tzutc()),\n",
       "   'note': '<p><span>人間</span></p>',\n",
       "   'url': 'https://misskey.io/@noizenecio',\n",
       "   'avatar': 'https://files.mastodon.social/cache/accounts/avatars/000/788/769/original/c3840d4dad34ff93.png',\n",
       "   'avatar_static': 'https://files.mastodon.social/cache/accounts/avatars/000/788/769/original/c3840d4dad34ff93.png',\n",
       "   'header': 'https://files.mastodon.social/cache/accounts/headers/000/788/769/original/2c3e989355327d2e.png',\n",
       "   'header_static': 'https://files.mastodon.social/cache/accounts/headers/000/788/769/original/2c3e989355327d2e.png',\n",
       "   'followers_count': 780,\n",
       "   'following_count': 505,\n",
       "   'statuses_count': 79249,\n",
       "   'last_status_at': datetime.datetime(2023, 5, 7, 0, 0),\n",
       "   'emojis': [],\n",
       "   'fields': [{'name': 'Twitter',\n",
       "     'value': '<a href=\"https://twitter.com/noizenecio\" rel=\"nofollow noopener noreferrer\" target=\"_blank\">https://twitter.com/noizenecio</a>',\n",
       "     'verified_at': None}]},\n",
       "  'media_attachments': [],\n",
       "  'mentions': [],\n",
       "  'tags': [],\n",
       "  'emojis': [],\n",
       "  'card': None,\n",
       "  'poll': None}]"
      ]
     },
     "execution_count": 54,
     "metadata": {},
     "output_type": "execute_result"
    }
   ],
   "source": [
    "mastodon.timeline_public(min_id='102404663597294230', limit=1)"
   ]
  },
  {
   "cell_type": "code",
   "execution_count": 32,
   "id": "9c9dbfac-b564-43ac-9ef3-021a0132218d",
   "metadata": {
    "scrolled": true,
    "tags": []
   },
   "outputs": [
    {
     "data": {
      "text/plain": [
       "[{'id': 104405112573677116,\n",
       "  'created_at': datetime.datetime(2020, 6, 25, 14, 33, 9, tzinfo=tzutc()),\n",
       "  'in_reply_to_id': None,\n",
       "  'in_reply_to_account_id': None,\n",
       "  'sensitive': False,\n",
       "  'spoiler_text': '',\n",
       "  'visibility': 'public',\n",
       "  'language': 'ja',\n",
       "  'uri': 'https://waha.work/users/maid/statuses/104405112579043040',\n",
       "  'url': 'https://waha.work/@maid/104405112579043040',\n",
       "  'replies_count': 0,\n",
       "  'reblogs_count': 1,\n",
       "  'favourites_count': 0,\n",
       "  'edited_at': None,\n",
       "  'favourited': False,\n",
       "  'reblogged': False,\n",
       "  'muted': False,\n",
       "  'bookmarked': False,\n",
       "  'content': '<p>ケースも一緒</p>',\n",
       "  'filtered': [],\n",
       "  'reblog': None,\n",
       "  'account': {'id': 945223,\n",
       "   'username': 'maid',\n",
       "   'acct': 'maid@waha.work',\n",
       "   'display_name': 'なまきゃ',\n",
       "   'locked': False,\n",
       "   'bot': False,\n",
       "   'discoverable': True,\n",
       "   'group': False,\n",
       "   'created_at': datetime.datetime(2019, 10, 17, 0, 0, tzinfo=tzutc()),\n",
       "   'note': '<p>元カノに「イキんなブス」って付き合ってる時に言われたことあります。<br>それくらいブスです。</p>',\n",
       "   'url': 'https://waha.work/@maid',\n",
       "   'avatar': 'https://files.mastodon.social/cache/accounts/avatars/000/945/223/original/7449b43ee7f19770.png',\n",
       "   'avatar_static': 'https://files.mastodon.social/cache/accounts/avatars/000/945/223/original/7449b43ee7f19770.png',\n",
       "   'header': 'https://files.mastodon.social/cache/accounts/headers/000/945/223/original/acb3a371101edc3c.jpg',\n",
       "   'header_static': 'https://files.mastodon.social/cache/accounts/headers/000/945/223/original/acb3a371101edc3c.jpg',\n",
       "   'followers_count': 241,\n",
       "   'following_count': 145,\n",
       "   'statuses_count': 16563,\n",
       "   'last_status_at': datetime.datetime(2023, 2, 10, 0, 0),\n",
       "   'emojis': [],\n",
       "   'fields': [{'name': 'Birthday', 'value': '4/21', 'verified_at': None},\n",
       "    {'name': 'Spec',\n",
       "     'value': 'i7-9700K/DDR4 64GB/RTX2080Super',\n",
       "     'verified_at': None},\n",
       "    {'name': 'トゥート', 'value': 'すべてまじで虚言', 'verified_at': None}]},\n",
       "  'media_attachments': [],\n",
       "  'mentions': [],\n",
       "  'tags': [],\n",
       "  'emojis': [],\n",
       "  'card': None,\n",
       "  'poll': None}]"
      ]
     },
     "execution_count": 32,
     "metadata": {},
     "output_type": "execute_result"
    }
   ],
   "source": [
    "mastodon.timeline_public(min_id='104405112559589654', limit=1)"
   ]
  },
  {
   "cell_type": "code",
   "execution_count": 94,
   "id": "eefe2308-afa2-4abf-9608-301bac9cca6c",
   "metadata": {},
   "outputs": [],
   "source": [
    "def binary_search_date(since_date, until_date, lower_id, upper_id):\n",
    "    melbourne_tz = pytz.timezone('Australia/Melbourne')\n",
    "\n",
    "    headers = [\"ID\", \"Toot Date\"]\n",
    "    table_data = []\n",
    "\n",
    "    while True:\n",
    "        lower_toot = mastodon.timeline_public(min_id=lower_id, limit=1)[0]\n",
    "        upper_toot = mastodon.timeline_public(min_id=upper_id, limit=1)[0]\n",
    "\n",
    "        lower_created_at = lower_toot.get('created_at', datetime.utcnow()).astimezone(melbourne_tz)\n",
    "        upper_created_at = upper_toot.get('created_at', datetime.utcnow()).astimezone(melbourne_tz)\n",
    "\n",
    "        table_data = [\n",
    "            [lower_id, lower_created_at.strftime('%Y-%m-%d %H:%M:%S')],\n",
    "            [upper_id, upper_created_at.strftime('%Y-%m-%d %H:%M:%S')]\n",
    "        ]\n",
    "\n",
    "        print(\"\\r\" + tabulate(table_data, headers=headers, tablefmt=\"grid\"), end='')\n",
    "\n",
    "        if lower_created_at.date() == since_date.date() and upper_created_at.date() == until_date.date():\n",
    "            break\n",
    "\n",
    "        mid_id = (upper_id + lower_id) // 2\n",
    "        toot = mastodon.timeline_public(max_id=mid_id, limit=1)[0]\n",
    "        created_at = toot.get('created_at', datetime.utcnow()).astimezone(melbourne_tz)\n",
    "\n",
    "        if created_at < since_date:\n",
    "            lower_id = toot['id']\n",
    "        else:\n",
    "            upper_id = toot['id']\n",
    "\n",
    "    print()  # To move to the next line in the terminal after the search is completed\n",
    "    return lower_id, upper_id"
   ]
  },
  {
   "cell_type": "code",
   "execution_count": 95,
   "id": "ed4fbdbd-1604-4f1e-a847-45a9d1f85c41",
   "metadata": {},
   "outputs": [],
   "source": [
    "timezone = pytz.UTC\n",
    "since_date = datetime(2019, 12, 31, tzinfo=timezone)  # Fetch data since January 1, 2020\n",
    "until_date = datetime(2020, 1, 2, tzinfo=timezone)  # Fetch data until Januray 1, 2020"
   ]
  },
  {
   "cell_type": "code",
   "execution_count": 97,
   "id": "957fe8a6-d157-487e-b049-16e3b1f78605",
   "metadata": {
    "scrolled": true,
    "tags": []
   },
   "outputs": [
    {
     "name": "stdout",
     "output_type": "stream",
     "text": [
      "+--------------------+---------------------+\n",
      "|                 ID | Toot Date           |\n",
      "+====================+=====================+\n",
      "| 103388556664584957 | 2019-12-29 12:49:36 |\n",
      "+--------------------+---------------------+\n",
      "| 103730295243282512 | 2020-02-27 21:18:14 |\n",
      "+--------------------+---------------------+\n",
      "|                 ID | Toot Date           |\n",
      "+====================+=====================+\n",
      "| 103388556664584957 | 2019-12-29 12:49:36 |\n",
      "+--------------------+---------------------+\n",
      "| 103559425695099287 | 2020-01-28 17:03:56 |\n",
      "+--------------------+---------------------+\n",
      "|                 ID | Toot Date           |\n",
      "+====================+=====================+\n",
      "| 103388556664584957 | 2019-12-29 12:49:36 |\n",
      "+--------------------+---------------------+\n",
      "| 103473991153934297 | 2020-01-13 14:56:45 |\n",
      "+--------------------+---------------------+\n",
      "|                 ID | Toot Date           |\n",
      "+====================+=====================+\n",
      "| 103388556664584957 | 2019-12-29 12:49:36 |\n",
      "+--------------------+---------------------+\n",
      "| 103431273878761936 | 2020-01-06 01:53:06 |\n",
      "+--------------------+---------------------+\n",
      "|                 ID | Toot Date           |\n",
      "+====================+=====================+\n",
      "| 103388556664584957 | 2019-12-29 12:49:36 |\n",
      "+--------------------+---------------------+\n",
      "| 103409915161090838 | 2020-01-02 07:21:21 |\n",
      "+--------------------+---------------------+\n",
      "|                 ID | Toot Date           |\n",
      "+====================+=====================+\n",
      "| 103399235850366686 | 2019-12-31 10:05:27 |\n",
      "+--------------------+---------------------+\n",
      "| 103409915161090838 | 2020-01-02 07:21:21 |\n",
      "+--------------------+---------------------+\n"
     ]
    },
    {
     "data": {
      "text/plain": [
       "(103399235850366686, 103409915161090838)"
      ]
     },
     "execution_count": 97,
     "metadata": {},
     "output_type": "execute_result"
    }
   ],
   "source": [
    "lower_id = 103388556664584957   \n",
    "upper_id = 103730295243282512 \n",
    "binary_search_date(since_date, until_date, lower_id, upper_id)"
   ]
  },
  {
   "cell_type": "code",
   "execution_count": null,
   "id": "d9fbb0ba-f1f3-4123-9dec-c88da2869708",
   "metadata": {},
   "outputs": [],
   "source": []
  }
 ],
 "metadata": {
  "kernelspec": {
   "display_name": "Python 3 (ipykernel)",
   "language": "python",
   "name": "python3"
  },
  "language_info": {
   "codemirror_mode": {
    "name": "ipython",
    "version": 3
   },
   "file_extension": ".py",
   "mimetype": "text/x-python",
   "name": "python",
   "nbconvert_exporter": "python",
   "pygments_lexer": "ipython3",
   "version": "3.10.9"
  }
 },
 "nbformat": 4,
 "nbformat_minor": 5
}
