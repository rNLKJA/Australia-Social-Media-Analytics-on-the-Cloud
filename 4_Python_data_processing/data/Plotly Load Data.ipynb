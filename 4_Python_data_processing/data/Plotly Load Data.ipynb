{
 "cells": [
  {
   "cell_type": "code",
   "execution_count": 3,
   "id": "21f0d09c-706c-479e-a204-f09564c39c50",
   "metadata": {
    "execution": {
     "iopub.execute_input": "2023-05-16T12:55:49.450766Z",
     "iopub.status.busy": "2023-05-16T12:55:49.450766Z",
     "iopub.status.idle": "2023-05-16T12:55:53.740189Z",
     "shell.execute_reply": "2023-05-16T12:55:53.740189Z",
     "shell.execute_reply.started": "2023-05-16T12:55:49.450766Z"
    },
    "tags": []
   },
   "outputs": [],
   "source": [
    "import json\n",
    "import plotly.graph_objects as go\n",
    "\n",
    "# Read the JSON file\n",
    "with open('crime_lga.json') as json_file:\n",
    "    plot_data = json.load(json_file)"
   ]
  },
  {
   "cell_type": "code",
   "execution_count": null,
   "id": "97cf3c46-6bde-47e6-9721-b67f45e025e8",
   "metadata": {
    "execution": {
     "iopub.execute_input": "2023-05-16T12:56:36.869305Z",
     "iopub.status.busy": "2023-05-16T12:56:36.869305Z"
    }
   },
   "outputs": [],
   "source": [
    "go.Figure(plot_data)"
   ]
  },
  {
   "cell_type": "code",
   "execution_count": null,
   "id": "d42afa4e-8006-41c1-ac42-5ffd2fc9332e",
   "metadata": {},
   "outputs": [],
   "source": []
  },
  {
   "cell_type": "code",
   "execution_count": null,
   "id": "f61e0113-c153-42ee-9498-d91d92596747",
   "metadata": {},
   "outputs": [],
   "source": []
  },
  {
   "cell_type": "code",
   "execution_count": null,
   "id": "2a734a1f-a3fe-4708-b157-53bb4a1becac",
   "metadata": {},
   "outputs": [],
   "source": [
    "with open('median_income_sa2.json') as json_file:\n",
    "    plot_data = json.load(json_file)"
   ]
  },
  {
   "cell_type": "code",
   "execution_count": null,
   "id": "d500ca2d-aaaf-4189-9eda-3340c8b8c209",
   "metadata": {},
   "outputs": [],
   "source": [
    "go.Figure(plot_data)"
   ]
  },
  {
   "cell_type": "code",
   "execution_count": null,
   "id": "355d76f8-63f2-44bc-a549-b26cbad52bfa",
   "metadata": {},
   "outputs": [],
   "source": []
  }
 ],
 "metadata": {
  "kernelspec": {
   "display_name": "Python 3 (ipykernel)",
   "language": "python",
   "name": "python3"
  },
  "language_info": {
   "codemirror_mode": {
    "name": "ipython",
    "version": 3
   },
   "file_extension": ".py",
   "mimetype": "text/x-python",
   "name": "python",
   "nbconvert_exporter": "python",
   "pygments_lexer": "ipython3",
   "version": "3.9.7"
  }
 },
 "nbformat": 4,
 "nbformat_minor": 5
}
