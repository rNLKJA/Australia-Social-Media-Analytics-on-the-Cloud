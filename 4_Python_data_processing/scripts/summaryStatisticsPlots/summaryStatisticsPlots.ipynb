{
 "cells": [
  {
   "cell_type": "code",
   "execution_count": 3,
   "metadata": {},
   "outputs": [],
   "source": [
    "import pandas as pd\n",
    "import numpy as np\n",
    "import matplotlib.pyplot as plt\n",
    "import json\n",
    "import plotly.graph_objects as go\n",
    "\n",
    "\n",
    "\n",
    "files = ['sentimentDistribution(income_tw).json', 'sentimentDistribution(crime_tw).json',\n",
    "         'sentimentDistribution(ALL_tw).json', \n",
    "         \"sentimentAll (au).json\", \"incomeMentioned (au).json\",\n",
    "         \"sentimentAll (social).json\", \"incomeMentioned (social).json\",\n",
    "         \"sentimentAll (tictoc).json\", \"incomeMentioned (tictoc).json\"]\n",
    "\n",
    "for file in files:\n",
    "    with open(file, 'r') as f:\n",
    "        data_dict = json.load(f)\n",
    "        clean_dict = {str(score): 0 for score in range(1,10)}\n",
    "        \n",
    "        for row in data_dict[\"rows\"]:\n",
    "            clean_dict[str(row[\"key\"][0])] += row[\"value\"][\"count\"]\n",
    "\n",
    "        scores = list(clean_dict.keys())\n",
    "        freqs = [clean_dict[score] for score in scores]\n",
    "\n",
    "\n",
    "        import plotly.graph_objects as go\n",
    "        fig = go.Figure(data=go.Bar(x=scores, y=freqs))\n",
    "        fig.update_layout(\n",
    "            title='Sentiment Score Distribution',\n",
    "            xaxis_title='Sentiment Score',\n",
    "            yaxis_title='Frequency Count'\n",
    "        )\n",
    "        #fig.show()\n",
    "        fig.write_json(str('Plot - ' + file))"
   ]
  }
 ],
 "metadata": {
  "kernelspec": {
   "display_name": "base",
   "language": "python",
   "name": "python3"
  },
  "language_info": {
   "codemirror_mode": {
    "name": "ipython",
    "version": 3
   },
   "file_extension": ".py",
   "mimetype": "text/x-python",
   "name": "python",
   "nbconvert_exporter": "python",
   "pygments_lexer": "ipython3",
   "version": "3.9.13"
  },
  "orig_nbformat": 4
 },
 "nbformat": 4,
 "nbformat_minor": 2
}
